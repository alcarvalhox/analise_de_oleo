{
  "nbformat": 4,
  "nbformat_minor": 0,
  "metadata": {
    "colab": {
      "name": "Analise_Oleo_deploy.ipynb",
      "provenance": [],
      "toc_visible": true,
      "mount_file_id": "1OoLMaj61dg-zN_0m0vAMgy3-bxUvxLtb",
      "authorship_tag": "ABX9TyOiIJUHgGw+GgcZZMZLBq8f",
      "include_colab_link": true
    },
    "kernelspec": {
      "name": "python3",
      "display_name": "Python 3"
    },
    "language_info": {
      "name": "python"
    }
  },
  "cells": [
    {
      "cell_type": "markdown",
      "metadata": {
        "id": "view-in-github",
        "colab_type": "text"
      },
      "source": [
        "<a href=\"https://colab.research.google.com/github/alcarvalhox/analise_de_oleo/blob/main/Analise_Oleo_deploy_v2.ipynb\" target=\"_parent\"><img src=\"https://colab.research.google.com/assets/colab-badge.svg\" alt=\"Open In Colab\"/></a>"
      ]
    },
    {
      "cell_type": "markdown",
      "metadata": {
        "id": "E32ul4GoUWTJ"
      },
      "source": [
        "# **Carrega Bibliotecas**"
      ]
    },
    {
      "cell_type": "code",
      "metadata": {
        "id": "3YPJje4EvwJm"
      },
      "source": [
        "import pandas as pd \n",
        "import seaborn as sns\n",
        "import numpy as np\n",
        "import matplotlib.pyplot as plt\n",
        "%matplotlib inline\n",
        "from scipy import stats\n",
        "import pickle\n",
        "from keras.models import load_model\n",
        "from sklearn.ensemble import GradientBoostingClassifier\n",
        "from sklearn.preprocessing import MinMaxScaler\n",
        "from sklearn.preprocessing import StandardScaler\n",
        "from sklearn.preprocessing import PowerTransformer\n",
        "from sklearn.preprocessing import LabelEncoder\n",
        "from sklearn.ensemble import GradientBoostingClassifier"
      ],
      "execution_count": 35,
      "outputs": []
    },
    {
      "cell_type": "markdown",
      "metadata": {
        "id": "JOo1UzyLUhDm"
      },
      "source": [
        "# **Carrega arquivos**"
      ]
    },
    {
      "cell_type": "markdown",
      "metadata": {
        "id": "5Le1cb2xUp9_"
      },
      "source": [
        "## Carrega arquivo base"
      ]
    },
    {
      "cell_type": "code",
      "metadata": {
        "id": "ejfY_jxgxZIN"
      },
      "source": [
        "bd_teste = pd.read_excel(\"/content/drive/MyDrive/Projetos/Projeto_Analise_de_Oleo/BD/bd_teste.xlsx\")\n",
        "bd_teste.to_csv(\"/content/drive/MyDrive/Projetos/Projeto_Analise_de_Oleo/BD/bd_teste.csv\")"
      ],
      "execution_count": 3,
      "outputs": []
    },
    {
      "cell_type": "code",
      "metadata": {
        "id": "_ZWczcBCx4JA"
      },
      "source": [
        "bd_teste = pd.read_csv(\"/content/drive/MyDrive/Projetos/Projeto_Analise_de_Oleo/BD/bd_teste.csv\",sep = ',',encoding = 'utf8')"
      ],
      "execution_count": 4,
      "outputs": []
    },
    {
      "cell_type": "code",
      "metadata": {
        "colab": {
          "base_uri": "https://localhost:8080/"
        },
        "id": "Cx_mrctuyB8T",
        "outputId": "6c8d9b3b-806f-4fb0-d5d7-d1a349dc9d9f"
      },
      "source": [
        "bd_teste.shape"
      ],
      "execution_count": 5,
      "outputs": [
        {
          "output_type": "execute_result",
          "data": {
            "text/plain": [
              "(21463, 21)"
            ]
          },
          "metadata": {
            "tags": []
          },
          "execution_count": 5
        }
      ]
    },
    {
      "cell_type": "markdown",
      "metadata": {
        "id": "PjcMMF38o5lX"
      },
      "source": [
        "## Trata o arquivo teste carregado"
      ]
    },
    {
      "cell_type": "code",
      "metadata": {
        "id": "X4u6wEUD0lj2"
      },
      "source": [
        "bd_teste['DIESEL'] = bd_teste['DIESEL'].apply({'N':0, 'S':1,'NN':0,'< 1':0,'<1':0,'> 10':1,'>10':1}.get)"
      ],
      "execution_count": 6,
      "outputs": []
    },
    {
      "cell_type": "code",
      "metadata": {
        "id": "XQ_B7cRn0lfI"
      },
      "source": [
        "bd_teste['DIESEL'] = bd_teste['DIESEL'].replace(r'^\\s+$', np.nan, regex=True)"
      ],
      "execution_count": 7,
      "outputs": []
    },
    {
      "cell_type": "code",
      "metadata": {
        "id": "WgOYxQso0laR"
      },
      "source": [
        "bd_teste = bd_teste.fillna({'DIESEL': 0})"
      ],
      "execution_count": 8,
      "outputs": []
    },
    {
      "cell_type": "code",
      "metadata": {
        "colab": {
          "base_uri": "https://localhost:8080/"
        },
        "id": "gcofFHlY0lVm",
        "outputId": "c953feeb-ce6a-4466-c6bd-b4c613e86e2f"
      },
      "source": [
        "cont=0\n",
        "for x in range (bd_teste.shape[0]):\n",
        "  if bd_teste['TBN'][x]=='-':\n",
        "    bd_teste['TBN'][x]= 0\n",
        "    cont=cont+1\n",
        "\n",
        "print(cont) "
      ],
      "execution_count": 9,
      "outputs": [
        {
          "output_type": "stream",
          "text": [
            "0\n"
          ],
          "name": "stdout"
        }
      ]
    },
    {
      "cell_type": "code",
      "metadata": {
        "id": "qTfNaJik2Eqv"
      },
      "source": [
        "bd_teste['TBN']=bd_teste['TBN'].astype(str).str.replace(\",\" , \".\").astype(float)"
      ],
      "execution_count": 10,
      "outputs": []
    },
    {
      "cell_type": "code",
      "metadata": {
        "id": "dBewakBO2EjK"
      },
      "source": [
        "media = bd_teste['TBN'].mean()\n",
        "bd_teste = bd_teste.fillna({'TBN': media})"
      ],
      "execution_count": 11,
      "outputs": []
    },
    {
      "cell_type": "code",
      "metadata": {
        "colab": {
          "base_uri": "https://localhost:8080/"
        },
        "id": "BKj6Qx6i2Eev",
        "outputId": "3827fb8b-ff84-4dc3-cf37-e83456a8d02d"
      },
      "source": [
        "cont=0\n",
        "for x in range (bd_teste.shape[0]):\n",
        "  if bd_teste['VISCOSIDADE'][x]=='-':\n",
        "    bd_teste['VISCOSIDADE'][x]= 0\n",
        "    cont=cont+1\n",
        "\n",
        "print(cont)"
      ],
      "execution_count": 13,
      "outputs": [
        {
          "output_type": "stream",
          "text": [
            "0\n"
          ],
          "name": "stdout"
        }
      ]
    },
    {
      "cell_type": "code",
      "metadata": {
        "id": "btI3sH052uNp"
      },
      "source": [
        "bd_teste['VISCOSIDADE']=bd_teste['VISCOSIDADE'].astype(str).str.replace(\",\" , \".\").astype(float)"
      ],
      "execution_count": 14,
      "outputs": []
    },
    {
      "cell_type": "code",
      "metadata": {
        "id": "wQy99u1T2uKT"
      },
      "source": [
        "media = bd_teste['VISCOSIDADE'].mean()\n",
        "bd_teste = bd_teste.fillna({'VISCOSIDADE': media})"
      ],
      "execution_count": 15,
      "outputs": []
    },
    {
      "cell_type": "code",
      "metadata": {
        "colab": {
          "base_uri": "https://localhost:8080/"
        },
        "id": "SmAMIokF2uGe",
        "outputId": "db76a120-fa6a-4efa-8de8-715f97c7570b"
      },
      "source": [
        "cont1=0;cont2=0;cont3=0;cont4=0;cont5=0;cont6=0;cont7=0;cont8=0;cont9=0;cont10=0;cont11=0;cont12=0;cont13=0;cont14=0\n",
        "for x in range (bd_teste.shape[0]):\n",
        "  if bd_teste['ALUMINIO'][x]=='-':\n",
        "    bd_teste['ALUMINIO'][x]= 0\n",
        "    cont1=cont1+1\n",
        "  if bd_teste['FERRO'][x]=='-':\n",
        "    bd_teste['FERRO'][x]= 0\n",
        "    cont2=cont2+1  \n",
        "  if bd_teste['CROMO'][x]=='-':\n",
        "    bd_teste['CROMO'][x]= 0\n",
        "    cont3=cont3+1\n",
        "  if bd_teste['CHUMBO'][x]=='-':\n",
        "    bd_teste['CHUMBO'][x]= 0\n",
        "    cont4=cont4+1\n",
        "  if bd_teste['COBRE'][x]=='-':\n",
        "    bd_teste['COBRE'][x]= 0\n",
        "    cont5=cont5+1\n",
        "  if bd_teste['ESTANHO'][x]=='-':\n",
        "    bd_teste['ESTANHO'][x]= 0\n",
        "    cont6=cont6+1\n",
        "  if bd_teste['NIQUEL'][x]=='-':\n",
        "    bd_teste['NIQUEL'][x]= 0\n",
        "    cont7=cont7+1\n",
        "  if bd_teste['PRATA'][x]=='-':\n",
        "    bd_teste['PRATA'][x]= 0\n",
        "    cont8=cont8+1  \n",
        "  if bd_teste['SILICIO'][x]=='-':\n",
        "    bd_teste['SILICIO'][x]= 0\n",
        "    cont9=cont9+1\n",
        "  if bd_teste['SODIO'][x]=='-':\n",
        "    bd_teste['SODIO'][x]= 0\n",
        "    cont10=cont10+1\n",
        "  if bd_teste['AGUA'][x]=='-':\n",
        "    bd_teste['AGUA'][x]= 0\n",
        "    cont11=cont11+1\n",
        "  if bd_teste['FULIGEM'][x]=='-':\n",
        "    bd_teste['FULIGEM'][x]= 0\n",
        "    cont12=cont12+1\n",
        "  if bd_teste['OXIDACAO'][x]=='-':\n",
        "    bd_teste['OXIDACAO'][x]= 0\n",
        "    cont13=cont13+1\n",
        "  if bd_teste['SULFATACAO'][x]=='-':\n",
        "    bd_teste['SULFATACAO'][x]= 0\n",
        "    cont14=cont14+1                      \n",
        "\n",
        "print(cont1,cont2,cont3,cont4,cont5,cont6,cont7,cont8,cont9,cont10,cont11,cont12,cont13,cont14)"
      ],
      "execution_count": 16,
      "outputs": [
        {
          "output_type": "stream",
          "text": [
            "0 0 0 0 0 0 0 0 0 0 0 0 0 0\n"
          ],
          "name": "stdout"
        }
      ]
    },
    {
      "cell_type": "code",
      "metadata": {
        "id": "QuC7dxas2uCv"
      },
      "source": [
        "bd_teste['ALUMINIO'] = bd_teste['ALUMINIO'].replace(r'^\\s+$', np.nan, regex=True)\n",
        "bd_teste['FERRO'] = bd_teste['FERRO'].replace(r'^\\s+$', np.nan, regex=True)\n",
        "bd_teste['CROMO'] = bd_teste['CROMO'].replace(r'^\\s+$', np.nan, regex=True)\n",
        "bd_teste['CHUMBO'] = bd_teste['CHUMBO'].replace(r'^\\s+$', np.nan, regex=True)\n",
        "bd_teste['COBRE'] = bd_teste['COBRE'].replace(r'^\\s+$', np.nan, regex=True)\n",
        "bd_teste['ESTANHO'] = bd_teste['ESTANHO'].replace(r'^\\s+$', np.nan, regex=True)\n",
        "bd_teste['NIQUEL'] = bd_teste['NIQUEL'].replace(r'^\\s+$', np.nan, regex=True)\n",
        "bd_teste['PRATA'] = bd_teste['PRATA'].replace(r'^\\s+$', np.nan, regex=True)\n",
        "bd_teste['SILICIO'] = bd_teste['SILICIO'].replace(r'^\\s+$', np.nan, regex=True)\n",
        "bd_teste['SODIO'] = bd_teste['SODIO'].replace(r'^\\s+$', np.nan, regex=True)\n",
        "bd_teste['AGUA'] = bd_teste['AGUA'].replace(r'^\\s+$', np.nan, regex=True)\n",
        "bd_teste['FULIGEM'] = bd_teste['FULIGEM'].replace(r'^\\s+$', np.nan, regex=True)\n",
        "bd_teste['OXIDACAO'] = bd_teste['OXIDACAO'].replace(r'^\\s+$', np.nan, regex=True)\n",
        "bd_teste['SULFATACAO'] = bd_teste['SULFATACAO'].replace(r'^\\s+$', np.nan, regex=True)"
      ],
      "execution_count": 17,
      "outputs": []
    },
    {
      "cell_type": "code",
      "metadata": {
        "id": "xjYsPiC92t-5"
      },
      "source": [
        "bd_teste['ALUMINIO']=bd_teste['ALUMINIO'].astype(str).str.replace(\",\" , \".\").astype(float)\n",
        "bd_teste['FERRO']=bd_teste['FERRO'].astype(str).str.replace(\",\" , \".\").astype(float)\n",
        "bd_teste['CROMO']=bd_teste['CROMO'].astype(str).str.replace(\",\" , \".\").astype(float)\n",
        "bd_teste['CHUMBO']=bd_teste['CHUMBO'].astype(str).str.replace(\",\" , \".\").astype(float)\n",
        "bd_teste['COBRE']=bd_teste['COBRE'].astype(str).str.replace(\",\" , \".\").astype(float)\n",
        "bd_teste['ESTANHO']=bd_teste['ESTANHO'].astype(str).str.replace(\",\" , \".\").astype(float)\n",
        "bd_teste['NIQUEL']=bd_teste['NIQUEL'].astype(str).str.replace(\",\" , \".\").astype(float)\n",
        "bd_teste['PRATA']=bd_teste['PRATA'].astype(str).str.replace(\",\" , \".\").astype(float)\n",
        "bd_teste['SILICIO']=bd_teste['SILICIO'].astype(str).str.replace(\",\" , \".\").astype(float)\n",
        "bd_teste['SODIO']=bd_teste['SODIO'].astype(str).str.replace(\",\" , \".\").astype(float)\n",
        "bd_teste['AGUA']=bd_teste['AGUA'].astype(str).str.replace(\",\" , \".\").astype(float)\n",
        "bd_teste['FULIGEM']=bd_teste['FULIGEM'].astype(str).str.replace(\",\" , \".\").astype(float)\n",
        "bd_teste['OXIDACAO']=bd_teste['OXIDACAO'].astype(str).str.replace(\",\" , \".\").astype(float)\n",
        "bd_teste['SULFATACAO']=bd_teste['SULFATACAO'].astype(str).str.replace(\",\" , \".\").astype(float)"
      ],
      "execution_count": 18,
      "outputs": []
    },
    {
      "cell_type": "code",
      "metadata": {
        "id": "S8ROI8t85iPL"
      },
      "source": [
        "media = bd_teste['ALUMINIO'].mean()\n",
        "bd_teste = bd_teste.fillna({'ALUMINIO': media})\n",
        "media = bd_teste['FERRO'].mean()\n",
        "bd_teste = bd_teste.fillna({'FERRO': media})\n",
        "media = bd_teste['CROMO'].mean()\n",
        "bd_teste = bd_teste.fillna({'CROMO': media})\n",
        "media = bd_teste['CHUMBO'].mean()\n",
        "bd_teste = bd_teste.fillna({'CHUMBO': media})\n",
        "media = bd_teste['COBRE'].mean()\n",
        "bd_teste = bd_teste.fillna({'COBRE': media})\n",
        "media = bd_teste['ESTANHO'].mean()\n",
        "bd_teste = bd_teste.fillna({'ESTANHO': media})\n",
        "media = bd_teste['NIQUEL'].mean()\n",
        "bd_teste = bd_teste.fillna({'NIQUEL': media})\n",
        "media = bd_teste['PRATA'].mean()\n",
        "bd_teste = bd_teste.fillna({'PRATA': media})\n",
        "media = bd_teste['SILICIO'].mean()\n",
        "bd_teste = bd_teste.fillna({'SILICIO': media})\n",
        "media = bd_teste['SODIO'].mean()\n",
        "bd_teste = bd_teste.fillna({'SODIO': media})\n",
        "media = bd_teste['AGUA'].mean()\n",
        "bd_teste = bd_teste.fillna({'AGUA': media})\n",
        "media = bd_teste['FULIGEM'].mean()\n",
        "bd_teste = bd_teste.fillna({'FULIGEM': media})\n",
        "media = bd_teste['OXIDACAO'].mean()\n",
        "bd_teste = bd_teste.fillna({'OXIDACAO': media})\n",
        "media = bd_teste['SULFATACAO'].mean()\n",
        "bd_teste = bd_teste.fillna({'SULFATACAO': media})"
      ],
      "execution_count": 20,
      "outputs": []
    },
    {
      "cell_type": "code",
      "metadata": {
        "colab": {
          "base_uri": "https://localhost:8080/"
        },
        "id": "aIPLxdpE2t6P",
        "outputId": "67cd1ef6-da00-4ba7-ec93-59391cd64944"
      },
      "source": [
        "bd_teste.isnull().sum()"
      ],
      "execution_count": 44,
      "outputs": [
        {
          "output_type": "execute_result",
          "data": {
            "text/plain": [
              "NU_ANLS_OLEO    0\n",
              "LOCO_analise    0\n",
              "DT_COLETA       0\n",
              "ALUMINIO        0\n",
              "FERRO           0\n",
              "CROMO           0\n",
              "CHUMBO          0\n",
              "COBRE           0\n",
              "ESTANHO         0\n",
              "NIQUEL          0\n",
              "PRATA           0\n",
              "SILICIO         0\n",
              "SODIO           0\n",
              "DIESEL          0\n",
              "VISCOSIDADE     0\n",
              "AGUA            0\n",
              "TBN             0\n",
              "FULIGEM         0\n",
              "OXIDACAO        0\n",
              "SULFATACAO      0\n",
              "TARGET          0\n",
              "dtype: int64"
            ]
          },
          "metadata": {
            "tags": []
          },
          "execution_count": 44
        }
      ]
    },
    {
      "cell_type": "code",
      "metadata": {
        "id": "X0HTSL260lLP"
      },
      "source": [
        "del bd_teste['TARGET']"
      ],
      "execution_count": 28,
      "outputs": []
    },
    {
      "cell_type": "code",
      "metadata": {
        "id": "qljAV3zc6OJ2"
      },
      "source": [
        "bd_teste.insert(20,'TARGET','')"
      ],
      "execution_count": 29,
      "outputs": []
    },
    {
      "cell_type": "markdown",
      "metadata": {
        "id": "qYKTbGDuptMP"
      },
      "source": [
        "# Carrega arquivo teste"
      ]
    },
    {
      "cell_type": "code",
      "metadata": {
        "id": "9XevaZxi71Tg"
      },
      "source": [
        "bd_teste.to_csv('/content/drive/MyDrive/Projetos/Projeto_Analise_de_Oleo/BD/bd_teste_corr.csv',index=False)"
      ],
      "execution_count": 45,
      "outputs": []
    },
    {
      "cell_type": "code",
      "metadata": {
        "id": "m4j_A-aQ8NO6"
      },
      "source": [
        "bd_teste.to_excel('/content/drive/MyDrive/Projetos/Projeto_Analise_de_Oleo/BD/bd_teste_corr.xlsx',index=False)"
      ],
      "execution_count": 46,
      "outputs": []
    },
    {
      "cell_type": "code",
      "metadata": {
        "id": "H0WL3n6WpM2f"
      },
      "source": [
        "bd_teste_corr = pd.read_csv(\"/content/drive/MyDrive/Projetos/Projeto_Analise_de_Oleo/BD/bd_teste_corr.csv\",sep = ',',encoding = 'utf8')"
      ],
      "execution_count": 47,
      "outputs": []
    },
    {
      "cell_type": "markdown",
      "metadata": {
        "id": "-IVVYjx0ppcY"
      },
      "source": [
        "## Carrega arquivo base"
      ]
    },
    {
      "cell_type": "code",
      "metadata": {
        "colab": {
          "base_uri": "https://localhost:8080/"
        },
        "id": "tnJBo2F6v5vf",
        "outputId": "c8e0e204-a9f2-46ba-b78d-ad61d186f169"
      },
      "source": [
        "#analise_orig1 = pd.read_excel(\"/content/drive/MyDrive/Projetos/Projeto_Analise_de_Oleo/BD/analise_orig1.xlsx\")\n",
        "#analise_orig1.to_csv(\"/content/drive/MyDrive/Projetos/Projeto_Analise_de_Oleo/BD/analise_orig1.csv\")\n",
        "bd = pd.read_csv(\"/content/drive/MyDrive/Projetos/Projeto_Analise_de_Oleo/BD/analise_tx_pdr3_1.csv\",sep = ',',encoding = 'utf8')"
      ],
      "execution_count": 38,
      "outputs": [
        {
          "output_type": "stream",
          "text": [
            "/usr/local/lib/python3.7/dist-packages/IPython/core/interactiveshell.py:2718: DtypeWarning: Columns (0) have mixed types.Specify dtype option on import or set low_memory=False.\n",
            "  interactivity=interactivity, compiler=compiler, result=result)\n"
          ],
          "name": "stderr"
        }
      ]
    },
    {
      "cell_type": "markdown",
      "metadata": {
        "id": "L9uefGacUz8G"
      },
      "source": [
        "## Carrega arquivo a ser classificado em excel"
      ]
    },
    {
      "cell_type": "code",
      "metadata": {
        "id": "LnnOuOlMuYQ_"
      },
      "source": [
        "arquivo_cl = pd.read_excel(\"/content/drive/MyDrive/Projetos/Projeto_Analise_de_Oleo/BD/teste_cl_original.xlsx\")\n",
        "arquivo_cl.to_csv(\"/content/drive/MyDrive/Projetos/Projeto_Analise_de_Oleo/BD/teste_cl_original.csv\",index = None, header=True)"
      ],
      "execution_count": null,
      "outputs": []
    },
    {
      "cell_type": "code",
      "metadata": {
        "id": "qlQIVGQSv543"
      },
      "source": [
        "arquivo_cl = pd.read_csv(\"/content/drive/MyDrive/Projetos/Projeto_Analise_de_Oleo/BD/teste_cl_original.csv\",sep = ',',encoding = 'utf8')"
      ],
      "execution_count": null,
      "outputs": []
    },
    {
      "cell_type": "markdown",
      "metadata": {
        "id": "NWJEG1-gqE-O"
      },
      "source": [
        ""
      ]
    },
    {
      "cell_type": "markdown",
      "metadata": {
        "id": "ogm8cMrQVBPp"
      },
      "source": [
        "## Colunas a serem inseridas no arquivo a ser classificado"
      ]
    },
    {
      "cell_type": "code",
      "metadata": {
        "id": "owv7f8_JSAfd"
      },
      "source": [
        "colunas=['TX_ALUMINIO','TX_FERRO','TX_CROMO','TX_CHUMBO','TX_COBRE','TX_ESTANHO','TX_PRATA',\n",
        "        'TX_SILICIO','TX_SODIO','LIM_DIESEL','LIM_VISCOSIDADE','LIM_AGUA','LIM_FULIGEM','LIM_OXIDACAO','LIM_SULFATACAO','LIM_TBN']\n",
        "\n",
        "valores = [0,0,0,0,0,0,0,0,0,0,0,0,0,0,0,0]\n",
        "bd_teste_corr = bd_teste_corr.reindex(columns=bd_teste_corr.columns.tolist() + colunas)   # add empty cols\n",
        "bd_teste_corr[colunas] = valores  # multi-column assignment works for existing cols        "
      ],
      "execution_count": 49,
      "outputs": []
    },
    {
      "cell_type": "code",
      "metadata": {
        "id": "jw3TvzhJqUVw"
      },
      "source": [
        "bd_teste_corr = bd_teste_corr[['NU_ANLS_OLEO','LOCO_analise','DT_COLETA','ALUMINIO','FERRO','CROMO',\n",
        "                         'CHUMBO','COBRE','ESTANHO','PRATA','SILICIO','SODIO','DIESEL','VISCOSIDADE',\n",
        "                         'AGUA','TBN','FULIGEM','OXIDACAO','SULFATACAO','TX_ALUMINIO','TX_FERRO',\n",
        "                         'TX_CROMO','TX_CHUMBO','TX_COBRE','TX_ESTANHO','TX_PRATA','TX_SILICIO','TX_SODIO',\n",
        "                         'LIM_DIESEL','LIM_VISCOSIDADE','LIM_AGUA','LIM_FULIGEM','LIM_OXIDACAO','LIM_SULFATACAO',\n",
        "                         'LIM_TBN','TARGET']]"
      ],
      "execution_count": 51,
      "outputs": []
    },
    {
      "cell_type": "markdown",
      "metadata": {
        "id": "xCPN0qOxZmUE"
      },
      "source": [
        "## Convertendo para o formato float"
      ]
    },
    {
      "cell_type": "code",
      "metadata": {
        "id": "7ciPbGCGZPuv"
      },
      "source": [
        "#arquivo_cl[colunas] = arquivo_cl[colunas].apply(lambda x: x.int.replace(',', '.').astype('float'))\n",
        "bd_teste_corr['TX_ALUMINIO'] = bd_teste_corr['TX_ALUMINIO'].astype(float)\n",
        "bd_teste_corr['TX_FERRO'] = bd_teste_corr['TX_FERRO'].astype(float)\n",
        "bd_teste_corr['TX_CROMO'] = bd_teste_corr['TX_CROMO'].astype(float)\n",
        "bd_teste_corr['TX_CHUMBO'] = bd_teste_corr['TX_CHUMBO'].astype(float)\n",
        "bd_teste_corr['TX_COBRE'] = bd_teste_corr['TX_COBRE'].astype(float)\n",
        "bd_teste_corr['TX_ESTANHO'] = bd_teste_corr['TX_ESTANHO'].astype(float)\n",
        "bd_teste_corr['TX_PRATA'] = bd_teste_corr['TX_PRATA'].astype(float)\n",
        "bd_teste_corr['TX_SILICIO'] = bd_teste_corr['TX_SILICIO'].astype(float)\n",
        "bd_teste_corr['TX_SODIO'] = bd_teste_corr['TX_SODIO'].astype(float)\n",
        "bd_teste_corr['LIM_DIESEL'] = bd_teste_corr['LIM_DIESEL'].astype(float)\n",
        "bd_teste_corr['LIM_VISCOSIDADE'] = bd_teste_corr['LIM_VISCOSIDADE'].astype(float)\n",
        "bd_teste_corr['LIM_AGUA'] = bd_teste_corr['LIM_AGUA'].astype(float)\n",
        "bd_teste_corr['LIM_TBN'] = bd_teste_corr['LIM_TBN'].astype(float)\n",
        "bd_teste_corr['LIM_FULIGEM'] = bd_teste_corr['LIM_FULIGEM'].astype(float)\n",
        "bd_teste_corr['LIM_OXIDACAO'] = bd_teste_corr['LIM_OXIDACAO'].astype(float)\n",
        "bd_teste_corr['LIM_SULFATACAO'] = bd_teste_corr['LIM_SULFATACAO'].astype(float)"
      ],
      "execution_count": 54,
      "outputs": []
    },
    {
      "cell_type": "markdown",
      "metadata": {
        "id": "A5EWFI8ta9J7"
      },
      "source": [
        "## Adicionando a coluna 'TARGET'"
      ]
    },
    {
      "cell_type": "code",
      "metadata": {
        "id": "pDmD_UAIa-Nr"
      },
      "source": [
        "arquivo_cl = arquivo_cl.assign(TARGET =lambda x: 'VAZIO')"
      ],
      "execution_count": null,
      "outputs": []
    },
    {
      "cell_type": "code",
      "metadata": {
        "colab": {
          "base_uri": "https://localhost:8080/",
          "height": 309
        },
        "id": "-rnnufeVIXh-",
        "outputId": "c428152e-74a2-42b2-fa29-0c8737d88540"
      },
      "source": [
        "bd_teste_corr.head()"
      ],
      "execution_count": 56,
      "outputs": [
        {
          "output_type": "execute_result",
          "data": {
            "text/html": [
              "<div>\n",
              "<style scoped>\n",
              "    .dataframe tbody tr th:only-of-type {\n",
              "        vertical-align: middle;\n",
              "    }\n",
              "\n",
              "    .dataframe tbody tr th {\n",
              "        vertical-align: top;\n",
              "    }\n",
              "\n",
              "    .dataframe thead th {\n",
              "        text-align: right;\n",
              "    }\n",
              "</style>\n",
              "<table border=\"1\" class=\"dataframe\">\n",
              "  <thead>\n",
              "    <tr style=\"text-align: right;\">\n",
              "      <th></th>\n",
              "      <th>NU_ANLS_OLEO</th>\n",
              "      <th>LOCO_analise</th>\n",
              "      <th>DT_COLETA</th>\n",
              "      <th>ALUMINIO</th>\n",
              "      <th>FERRO</th>\n",
              "      <th>CROMO</th>\n",
              "      <th>CHUMBO</th>\n",
              "      <th>COBRE</th>\n",
              "      <th>ESTANHO</th>\n",
              "      <th>PRATA</th>\n",
              "      <th>SILICIO</th>\n",
              "      <th>SODIO</th>\n",
              "      <th>DIESEL</th>\n",
              "      <th>VISCOSIDADE</th>\n",
              "      <th>AGUA</th>\n",
              "      <th>TBN</th>\n",
              "      <th>FULIGEM</th>\n",
              "      <th>OXIDACAO</th>\n",
              "      <th>SULFATACAO</th>\n",
              "      <th>TX_ALUMINIO</th>\n",
              "      <th>TX_FERRO</th>\n",
              "      <th>TX_CROMO</th>\n",
              "      <th>TX_CHUMBO</th>\n",
              "      <th>TX_COBRE</th>\n",
              "      <th>TX_ESTANHO</th>\n",
              "      <th>TX_PRATA</th>\n",
              "      <th>TX_SILICIO</th>\n",
              "      <th>TX_SODIO</th>\n",
              "      <th>LIM_DIESEL</th>\n",
              "      <th>LIM_VISCOSIDADE</th>\n",
              "      <th>LIM_AGUA</th>\n",
              "      <th>LIM_FULIGEM</th>\n",
              "      <th>LIM_OXIDACAO</th>\n",
              "      <th>LIM_SULFATACAO</th>\n",
              "      <th>LIM_TBN</th>\n",
              "      <th>TARGET</th>\n",
              "    </tr>\n",
              "  </thead>\n",
              "  <tbody>\n",
              "    <tr>\n",
              "      <th>0</th>\n",
              "      <td>1800337331</td>\n",
              "      <td>903437</td>\n",
              "      <td>2019-01-01</td>\n",
              "      <td>0.0</td>\n",
              "      <td>21.0</td>\n",
              "      <td>1.0</td>\n",
              "      <td>5.0</td>\n",
              "      <td>4.0</td>\n",
              "      <td>4.0</td>\n",
              "      <td>0.0</td>\n",
              "      <td>12.0</td>\n",
              "      <td>3.0</td>\n",
              "      <td>0.0</td>\n",
              "      <td>15.00</td>\n",
              "      <td>0.001495</td>\n",
              "      <td>8.540</td>\n",
              "      <td>0.69</td>\n",
              "      <td>0.14</td>\n",
              "      <td>0.23</td>\n",
              "      <td>0.0</td>\n",
              "      <td>0.0</td>\n",
              "      <td>0.0</td>\n",
              "      <td>0.0</td>\n",
              "      <td>0.0</td>\n",
              "      <td>0.0</td>\n",
              "      <td>0.0</td>\n",
              "      <td>0.0</td>\n",
              "      <td>0.0</td>\n",
              "      <td>0.0</td>\n",
              "      <td>0.0</td>\n",
              "      <td>0.0</td>\n",
              "      <td>0.0</td>\n",
              "      <td>0.0</td>\n",
              "      <td>0.0</td>\n",
              "      <td>0.0</td>\n",
              "      <td>NaN</td>\n",
              "    </tr>\n",
              "    <tr>\n",
              "      <th>1</th>\n",
              "      <td>1800311170</td>\n",
              "      <td>903619</td>\n",
              "      <td>2019-01-02</td>\n",
              "      <td>0.0</td>\n",
              "      <td>9.0</td>\n",
              "      <td>1.0</td>\n",
              "      <td>3.0</td>\n",
              "      <td>2.0</td>\n",
              "      <td>0.0</td>\n",
              "      <td>0.0</td>\n",
              "      <td>5.0</td>\n",
              "      <td>13.0</td>\n",
              "      <td>0.0</td>\n",
              "      <td>15.82</td>\n",
              "      <td>0.001679</td>\n",
              "      <td>6.964</td>\n",
              "      <td>0.33</td>\n",
              "      <td>0.16</td>\n",
              "      <td>0.21</td>\n",
              "      <td>0.0</td>\n",
              "      <td>0.0</td>\n",
              "      <td>0.0</td>\n",
              "      <td>0.0</td>\n",
              "      <td>0.0</td>\n",
              "      <td>0.0</td>\n",
              "      <td>0.0</td>\n",
              "      <td>0.0</td>\n",
              "      <td>0.0</td>\n",
              "      <td>0.0</td>\n",
              "      <td>0.0</td>\n",
              "      <td>0.0</td>\n",
              "      <td>0.0</td>\n",
              "      <td>0.0</td>\n",
              "      <td>0.0</td>\n",
              "      <td>0.0</td>\n",
              "      <td>NaN</td>\n",
              "    </tr>\n",
              "    <tr>\n",
              "      <th>2</th>\n",
              "      <td>1800311180</td>\n",
              "      <td>903307</td>\n",
              "      <td>2019-01-01</td>\n",
              "      <td>0.0</td>\n",
              "      <td>19.0</td>\n",
              "      <td>1.0</td>\n",
              "      <td>0.0</td>\n",
              "      <td>2.0</td>\n",
              "      <td>1.0</td>\n",
              "      <td>0.0</td>\n",
              "      <td>8.0</td>\n",
              "      <td>9.0</td>\n",
              "      <td>0.0</td>\n",
              "      <td>12.27</td>\n",
              "      <td>0.002293</td>\n",
              "      <td>4.881</td>\n",
              "      <td>0.21</td>\n",
              "      <td>0.15</td>\n",
              "      <td>0.19</td>\n",
              "      <td>0.0</td>\n",
              "      <td>0.0</td>\n",
              "      <td>0.0</td>\n",
              "      <td>0.0</td>\n",
              "      <td>0.0</td>\n",
              "      <td>0.0</td>\n",
              "      <td>0.0</td>\n",
              "      <td>0.0</td>\n",
              "      <td>0.0</td>\n",
              "      <td>0.0</td>\n",
              "      <td>0.0</td>\n",
              "      <td>0.0</td>\n",
              "      <td>0.0</td>\n",
              "      <td>0.0</td>\n",
              "      <td>0.0</td>\n",
              "      <td>0.0</td>\n",
              "      <td>NaN</td>\n",
              "    </tr>\n",
              "    <tr>\n",
              "      <th>3</th>\n",
              "      <td>1800311158</td>\n",
              "      <td>903820</td>\n",
              "      <td>2019-01-01</td>\n",
              "      <td>0.0</td>\n",
              "      <td>10.0</td>\n",
              "      <td>1.0</td>\n",
              "      <td>1.0</td>\n",
              "      <td>1.0</td>\n",
              "      <td>0.0</td>\n",
              "      <td>0.0</td>\n",
              "      <td>4.0</td>\n",
              "      <td>0.0</td>\n",
              "      <td>0.0</td>\n",
              "      <td>14.90</td>\n",
              "      <td>0.001479</td>\n",
              "      <td>4.393</td>\n",
              "      <td>0.59</td>\n",
              "      <td>0.12</td>\n",
              "      <td>0.21</td>\n",
              "      <td>0.0</td>\n",
              "      <td>0.0</td>\n",
              "      <td>0.0</td>\n",
              "      <td>0.0</td>\n",
              "      <td>0.0</td>\n",
              "      <td>0.0</td>\n",
              "      <td>0.0</td>\n",
              "      <td>0.0</td>\n",
              "      <td>0.0</td>\n",
              "      <td>0.0</td>\n",
              "      <td>0.0</td>\n",
              "      <td>0.0</td>\n",
              "      <td>0.0</td>\n",
              "      <td>0.0</td>\n",
              "      <td>0.0</td>\n",
              "      <td>0.0</td>\n",
              "      <td>NaN</td>\n",
              "    </tr>\n",
              "    <tr>\n",
              "      <th>4</th>\n",
              "      <td>1800225344</td>\n",
              "      <td>903859</td>\n",
              "      <td>2019-01-08</td>\n",
              "      <td>0.0</td>\n",
              "      <td>20.0</td>\n",
              "      <td>1.0</td>\n",
              "      <td>4.0</td>\n",
              "      <td>3.0</td>\n",
              "      <td>0.0</td>\n",
              "      <td>0.0</td>\n",
              "      <td>7.0</td>\n",
              "      <td>0.0</td>\n",
              "      <td>0.0</td>\n",
              "      <td>16.73</td>\n",
              "      <td>0.002192</td>\n",
              "      <td>5.616</td>\n",
              "      <td>0.33</td>\n",
              "      <td>0.27</td>\n",
              "      <td>0.30</td>\n",
              "      <td>0.0</td>\n",
              "      <td>0.0</td>\n",
              "      <td>0.0</td>\n",
              "      <td>0.0</td>\n",
              "      <td>0.0</td>\n",
              "      <td>0.0</td>\n",
              "      <td>0.0</td>\n",
              "      <td>0.0</td>\n",
              "      <td>0.0</td>\n",
              "      <td>0.0</td>\n",
              "      <td>0.0</td>\n",
              "      <td>0.0</td>\n",
              "      <td>0.0</td>\n",
              "      <td>0.0</td>\n",
              "      <td>0.0</td>\n",
              "      <td>0.0</td>\n",
              "      <td>NaN</td>\n",
              "    </tr>\n",
              "  </tbody>\n",
              "</table>\n",
              "</div>"
            ],
            "text/plain": [
              "  NU_ANLS_OLEO  LOCO_analise   DT_COLETA  ...  LIM_SULFATACAO  LIM_TBN  TARGET\n",
              "0   1800337331        903437  2019-01-01  ...             0.0      0.0     NaN\n",
              "1   1800311170        903619  2019-01-02  ...             0.0      0.0     NaN\n",
              "2   1800311180        903307  2019-01-01  ...             0.0      0.0     NaN\n",
              "3   1800311158        903820  2019-01-01  ...             0.0      0.0     NaN\n",
              "4   1800225344        903859  2019-01-08  ...             0.0      0.0     NaN\n",
              "\n",
              "[5 rows x 36 columns]"
            ]
          },
          "metadata": {
            "tags": []
          },
          "execution_count": 56
        }
      ]
    },
    {
      "cell_type": "markdown",
      "metadata": {
        "id": "kwcoaLQeIgbB"
      },
      "source": [
        "# Organizando  arquivo a ser classificado"
      ]
    },
    {
      "cell_type": "code",
      "metadata": {
        "id": "b4pe5fu4Ifs5"
      },
      "source": [
        "bd_teste_corr['DT_COLETA']= pd.to_datetime(bd_teste_corr['DT_COLETA'])\n",
        "bd_teste_corr=bd_teste_corr.sort_values(by=['LOCO_analise'],ignore_index=True,ascending=True)\n",
        "bd_teste_corr = bd_teste_corr.sort_values(['LOCO_analise','DT_COLETA'],ascending=False).groupby('NU_ANLS_OLEO').head(10)"
      ],
      "execution_count": 57,
      "outputs": []
    },
    {
      "cell_type": "code",
      "metadata": {
        "colab": {
          "base_uri": "https://localhost:8080/"
        },
        "id": "T5TJ2bqYI7Ah",
        "outputId": "de65f687-1a0c-417f-d63f-28446191549a"
      },
      "source": [
        "bd_teste_corr.to_csv('/content/drive/MyDrive/Projetos/Projeto_Analise_de_Oleo/BD/bd_teste_corr_2.csv',index=False)\n",
        "bd_teste_corr.to_excel('/content/drive/MyDrive/Projetos/Projeto_Analise_de_Oleo/BD/bd_teste_corr_2.xlsx',index=False)\n",
        "bd_teste_corr_2 = pd.read_csv(\"/content/drive/MyDrive/Projetos/Projeto_Analise_de_Oleo/BD/bd_teste_corr_2.csv\",sep = ',',encoding = 'utf8')"
      ],
      "execution_count": 60,
      "outputs": [
        {
          "output_type": "stream",
          "text": [
            "/usr/local/lib/python3.7/dist-packages/IPython/core/interactiveshell.py:2718: DtypeWarning: Columns (0) have mixed types.Specify dtype option on import or set low_memory=False.\n",
            "  interactivity=interactivity, compiler=compiler, result=result)\n"
          ],
          "name": "stderr"
        }
      ]
    },
    {
      "cell_type": "markdown",
      "metadata": {
        "id": "h-1fhM1edaK7"
      },
      "source": [
        "# **Filtrando o arquivo bd**"
      ]
    },
    {
      "cell_type": "code",
      "metadata": {
        "id": "I0EYGUhzv6GY"
      },
      "source": [
        "bd['DT_COLETA']= pd.to_datetime(bd['DT_COLETA'])\n",
        "bd=bd.sort_values(by=['LOCO_analise'],ignore_index=True,ascending=True)\n",
        "bd = bd.sort_values(['LOCO_analise','DT_COLETA'],ascending=False).groupby('NU_ANLS_OLEO').head(10)"
      ],
      "execution_count": 59,
      "outputs": []
    },
    {
      "cell_type": "code",
      "metadata": {
        "colab": {
          "base_uri": "https://localhost:8080/"
        },
        "id": "3rvwgUM_VPoR",
        "outputId": "cc751cfb-b359-47eb-8913-55f7010e4acc"
      },
      "source": [
        "colunas_TX=['TX_ALUMINIO','TX_FERRO','TX_CROMO','TX_CHUMBO','TX_COBRE','TX_ESTANHO','TX_PRATA',\n",
        "         'TX_SILICIO','TX_SODIO']\n",
        "colunas_FEAT=['ALUMINIO','FERRO','CROMO','CHUMBO','COBRE','ESTANHO','PRATA',\n",
        "         'SILICIO','SODIO'] \n",
        "\n",
        "cont = 0\n",
        "anterior = 0\n",
        "a = arquivo_cl.shape[0] \n",
        "arquivo_cl['LOCO_analise'] = arquivo_cl['LOCO_analise'].apply(str)\n",
        "\n",
        "for i in range(a):\n",
        "  loco = arquivo_cl['LOCO_analise'][i] \n",
        "  values=[loco]\n",
        "  filtered_df = bd[bd.LOCO_analise.isin(values)]\n",
        "  filtered_df['DT_COLETA']= pd.to_datetime(filtered_df['DT_COLETA'])\n",
        "  \n",
        "  if filtered_df.shape[0]>= 4:\n",
        "    \n",
        "    if loco == anterior:\n",
        "      cont = cont + 1\n",
        "    if loco != anterior:\n",
        "      cont = 0  \n",
        "    dt_menor=filtered_df.iloc[[3+cont]]['DT_COLETA'] \n",
        "    dt_maior=arquivo_cl['DT_COLETA'][i]\n",
        "    oneday = pd.Timedelta(days=1)\n",
        "    dias = (abs((dt_maior - dt_menor)))/oneday\n",
        "    print('contador ',cont,'Loco ',loco )   \n",
        "\n",
        "    for k in range (len(colunas_TX)):\n",
        "      tx = arquivo_cl[colunas_FEAT[k]][i]-filtered_df.iloc[[3+cont]][colunas_FEAT[k]]\n",
        "      arquivo_cl[colunas_TX[k]][i] = (tx/dias)\n",
        "\n",
        "    arquivo_cl['LIM_DIESEL'][i]= arquivo_cl['DIESEL'][i]\n",
        "    arquivo_cl['LIM_VISCOSIDADE'][i]= arquivo_cl['VISCOSIDADE'][i]\n",
        "    arquivo_cl['LIM_AGUA'][i]= arquivo_cl['AGUA'][i]\n",
        "    arquivo_cl['LIM_FULIGEM'][i]= arquivo_cl['FULIGEM'][i]\n",
        "    arquivo_cl['LIM_OXIDACAO'][i]= arquivo_cl['OXIDACAO'][i]\n",
        "    arquivo_cl['LIM_SULFATACAO'][i]= arquivo_cl['SULFATACAO'][i]\n",
        "    arquivo_cl['LIM_TBN'][i]= arquivo_cl['TBN'][i] \n",
        "\n",
        "    anterior = loco"
      ],
      "execution_count": null,
      "outputs": [
        {
          "output_type": "stream",
          "text": [
            "/usr/local/lib/python3.7/dist-packages/ipykernel_launcher.py:15: SettingWithCopyWarning: \n",
            "A value is trying to be set on a copy of a slice from a DataFrame.\n",
            "Try using .loc[row_indexer,col_indexer] = value instead\n",
            "\n",
            "See the caveats in the documentation: https://pandas.pydata.org/pandas-docs/stable/user_guide/indexing.html#returning-a-view-versus-a-copy\n",
            "  from ipykernel import kernelapp as app\n",
            "/usr/local/lib/python3.7/dist-packages/ipykernel_launcher.py:31: SettingWithCopyWarning: \n",
            "A value is trying to be set on a copy of a slice from a DataFrame\n",
            "\n",
            "See the caveats in the documentation: https://pandas.pydata.org/pandas-docs/stable/user_guide/indexing.html#returning-a-view-versus-a-copy\n",
            "/usr/local/lib/python3.7/dist-packages/ipykernel_launcher.py:33: SettingWithCopyWarning: \n",
            "A value is trying to be set on a copy of a slice from a DataFrame\n",
            "\n",
            "See the caveats in the documentation: https://pandas.pydata.org/pandas-docs/stable/user_guide/indexing.html#returning-a-view-versus-a-copy\n",
            "/usr/local/lib/python3.7/dist-packages/ipykernel_launcher.py:34: SettingWithCopyWarning: \n",
            "A value is trying to be set on a copy of a slice from a DataFrame\n",
            "\n",
            "See the caveats in the documentation: https://pandas.pydata.org/pandas-docs/stable/user_guide/indexing.html#returning-a-view-versus-a-copy\n",
            "/usr/local/lib/python3.7/dist-packages/ipykernel_launcher.py:35: SettingWithCopyWarning: \n",
            "A value is trying to be set on a copy of a slice from a DataFrame\n",
            "\n",
            "See the caveats in the documentation: https://pandas.pydata.org/pandas-docs/stable/user_guide/indexing.html#returning-a-view-versus-a-copy\n",
            "/usr/local/lib/python3.7/dist-packages/ipykernel_launcher.py:36: SettingWithCopyWarning: \n",
            "A value is trying to be set on a copy of a slice from a DataFrame\n",
            "\n",
            "See the caveats in the documentation: https://pandas.pydata.org/pandas-docs/stable/user_guide/indexing.html#returning-a-view-versus-a-copy\n",
            "/usr/local/lib/python3.7/dist-packages/ipykernel_launcher.py:37: SettingWithCopyWarning: \n",
            "A value is trying to be set on a copy of a slice from a DataFrame\n",
            "\n",
            "See the caveats in the documentation: https://pandas.pydata.org/pandas-docs/stable/user_guide/indexing.html#returning-a-view-versus-a-copy\n",
            "/usr/local/lib/python3.7/dist-packages/ipykernel_launcher.py:38: SettingWithCopyWarning: \n",
            "A value is trying to be set on a copy of a slice from a DataFrame\n",
            "\n",
            "See the caveats in the documentation: https://pandas.pydata.org/pandas-docs/stable/user_guide/indexing.html#returning-a-view-versus-a-copy\n",
            "/usr/local/lib/python3.7/dist-packages/ipykernel_launcher.py:39: SettingWithCopyWarning: \n",
            "A value is trying to be set on a copy of a slice from a DataFrame\n",
            "\n",
            "See the caveats in the documentation: https://pandas.pydata.org/pandas-docs/stable/user_guide/indexing.html#returning-a-view-versus-a-copy\n"
          ],
          "name": "stderr"
        },
        {
          "output_type": "stream",
          "text": [
            "contador  0 Loco  907341\n",
            "contador  0 Loco  907342\n",
            "contador  0 Loco  907343\n",
            "contador  0 Loco  907344\n",
            "contador  1 Loco  907344\n",
            "contador  2 Loco  907344\n",
            "contador  3 Loco  907344\n",
            "contador  0 Loco  907345\n",
            "contador  1 Loco  907345\n",
            "contador  2 Loco  907345\n",
            "contador  0 Loco  907346\n",
            "contador  1 Loco  907346\n",
            "contador  2 Loco  907346\n",
            "contador  0 Loco  907347\n",
            "contador  1 Loco  907347\n",
            "contador  0 Loco  907349\n",
            "contador  1 Loco  907349\n",
            "contador  2 Loco  907349\n",
            "contador  3 Loco  907349\n",
            "contador  4 Loco  907349\n",
            "contador  5 Loco  907349\n",
            "contador  6 Loco  907349\n",
            "contador  0 Loco  907350\n",
            "contador  1 Loco  907350\n",
            "contador  2 Loco  907350\n",
            "contador  3 Loco  907350\n",
            "contador  4 Loco  907350\n",
            "contador  5 Loco  907350\n",
            "contador  6 Loco  907350\n",
            "contador  0 Loco  907351\n",
            "contador  1 Loco  907351\n",
            "contador  2 Loco  907351\n",
            "contador  3 Loco  907351\n",
            "contador  4 Loco  907351\n",
            "contador  5 Loco  907351\n",
            "contador  6 Loco  907351\n",
            "contador  7 Loco  907351\n",
            "contador  0 Loco  907352\n",
            "contador  1 Loco  907352\n",
            "contador  2 Loco  907352\n",
            "contador  3 Loco  907352\n",
            "contador  4 Loco  907352\n",
            "contador  5 Loco  907352\n",
            "contador  6 Loco  907352\n",
            "contador  7 Loco  907352\n",
            "contador  8 Loco  907352\n",
            "contador  9 Loco  907352\n",
            "contador  10 Loco  907352\n",
            "contador  11 Loco  907352\n",
            "contador  12 Loco  907352\n",
            "contador  13 Loco  907352\n",
            "contador  14 Loco  907352\n",
            "contador  15 Loco  907352\n",
            "contador  16 Loco  907352\n",
            "contador  17 Loco  907352\n",
            "contador  18 Loco  907352\n",
            "contador  19 Loco  907352\n",
            "contador  20 Loco  907352\n",
            "contador  21 Loco  907352\n",
            "contador  22 Loco  907352\n",
            "contador  23 Loco  907352\n",
            "contador  24 Loco  907352\n",
            "contador  25 Loco  907352\n",
            "contador  26 Loco  907352\n",
            "contador  27 Loco  907352\n",
            "contador  28 Loco  907352\n",
            "contador  29 Loco  907352\n"
          ],
          "name": "stdout"
        }
      ]
    },
    {
      "cell_type": "code",
      "metadata": {
        "colab": {
          "base_uri": "https://localhost:8080/",
          "height": 309
        },
        "id": "JbrgQwx2y9n0",
        "outputId": "4da4d1e2-8ac2-4edd-c807-8ed1518e3a83"
      },
      "source": [
        "arquivo_cl.head()"
      ],
      "execution_count": null,
      "outputs": [
        {
          "output_type": "execute_result",
          "data": {
            "text/html": [
              "<div>\n",
              "<style scoped>\n",
              "    .dataframe tbody tr th:only-of-type {\n",
              "        vertical-align: middle;\n",
              "    }\n",
              "\n",
              "    .dataframe tbody tr th {\n",
              "        vertical-align: top;\n",
              "    }\n",
              "\n",
              "    .dataframe thead th {\n",
              "        text-align: right;\n",
              "    }\n",
              "</style>\n",
              "<table border=\"1\" class=\"dataframe\">\n",
              "  <thead>\n",
              "    <tr style=\"text-align: right;\">\n",
              "      <th></th>\n",
              "      <th>NU_ANLS_OLEO</th>\n",
              "      <th>LOCO_analise</th>\n",
              "      <th>DT_COLETA</th>\n",
              "      <th>ALUMINIO</th>\n",
              "      <th>FERRO</th>\n",
              "      <th>CROMO</th>\n",
              "      <th>CHUMBO</th>\n",
              "      <th>COBRE</th>\n",
              "      <th>ESTANHO</th>\n",
              "      <th>PRATA</th>\n",
              "      <th>SILICIO</th>\n",
              "      <th>SODIO</th>\n",
              "      <th>DIESEL</th>\n",
              "      <th>VISCOSIDADE</th>\n",
              "      <th>AGUA</th>\n",
              "      <th>TBN</th>\n",
              "      <th>FULIGEM</th>\n",
              "      <th>OXIDACAO</th>\n",
              "      <th>SULFATACAO</th>\n",
              "      <th>TX_ALUMINIO</th>\n",
              "      <th>TX_FERRO</th>\n",
              "      <th>TX_CROMO</th>\n",
              "      <th>TX_CHUMBO</th>\n",
              "      <th>TX_COBRE</th>\n",
              "      <th>TX_ESTANHO</th>\n",
              "      <th>TX_PRATA</th>\n",
              "      <th>TX_SILICIO</th>\n",
              "      <th>TX_SODIO</th>\n",
              "      <th>LIM_DIESEL</th>\n",
              "      <th>LIM_VISCOSIDADE</th>\n",
              "      <th>LIM_AGUA</th>\n",
              "      <th>LIM_FULIGEM</th>\n",
              "      <th>LIM_OXIDACAO</th>\n",
              "      <th>LIM_SULFATACAO</th>\n",
              "      <th>LIM_TBN</th>\n",
              "      <th>TARGET</th>\n",
              "    </tr>\n",
              "  </thead>\n",
              "  <tbody>\n",
              "    <tr>\n",
              "      <th>67</th>\n",
              "      <td>13956</td>\n",
              "      <td>909040</td>\n",
              "      <td>2005-03-23</td>\n",
              "      <td>0.099137</td>\n",
              "      <td>3.185829</td>\n",
              "      <td>2.399436</td>\n",
              "      <td>2.306443</td>\n",
              "      <td>2.095843</td>\n",
              "      <td>3.581275</td>\n",
              "      <td>-1.037926</td>\n",
              "      <td>-0.963997</td>\n",
              "      <td>-1.205889</td>\n",
              "      <td>-0.060797</td>\n",
              "      <td>0.827206</td>\n",
              "      <td>1.011723</td>\n",
              "      <td>0.108560</td>\n",
              "      <td>0.264321</td>\n",
              "      <td>0.141778</td>\n",
              "      <td>0.141181</td>\n",
              "      <td>0.000000e+00</td>\n",
              "      <td>0.000000</td>\n",
              "      <td>0.000000</td>\n",
              "      <td>0.000000</td>\n",
              "      <td>0.000000</td>\n",
              "      <td>0.000000</td>\n",
              "      <td>0.000000e+00</td>\n",
              "      <td>0.000000</td>\n",
              "      <td>0.000000</td>\n",
              "      <td>0.000000</td>\n",
              "      <td>0.000000</td>\n",
              "      <td>0.000000</td>\n",
              "      <td>0.000000</td>\n",
              "      <td>0.000000</td>\n",
              "      <td>0.000000</td>\n",
              "      <td>0.000000</td>\n",
              "      <td>VAZIO</td>\n",
              "    </tr>\n",
              "    <tr>\n",
              "      <th>53</th>\n",
              "      <td>2000292946</td>\n",
              "      <td>907352</td>\n",
              "      <td>2020-12-08</td>\n",
              "      <td>-2.526123</td>\n",
              "      <td>-2.057596</td>\n",
              "      <td>-1.585440</td>\n",
              "      <td>-1.859548</td>\n",
              "      <td>-1.702728</td>\n",
              "      <td>-0.288102</td>\n",
              "      <td>-1.037926</td>\n",
              "      <td>-2.198755</td>\n",
              "      <td>-0.316922</td>\n",
              "      <td>-0.060797</td>\n",
              "      <td>-0.924824</td>\n",
              "      <td>1.874883</td>\n",
              "      <td>1.606313</td>\n",
              "      <td>-0.831715</td>\n",
              "      <td>-1.820821</td>\n",
              "      <td>-1.485238</td>\n",
              "      <td>-5.609410e-03</td>\n",
              "      <td>-0.001318</td>\n",
              "      <td>-0.001026</td>\n",
              "      <td>-0.002305</td>\n",
              "      <td>-0.000829</td>\n",
              "      <td>-0.007542</td>\n",
              "      <td>1.298506e-18</td>\n",
              "      <td>-0.003598</td>\n",
              "      <td>0.001374</td>\n",
              "      <td>-0.060797</td>\n",
              "      <td>-0.924824</td>\n",
              "      <td>1.874883</td>\n",
              "      <td>-0.831715</td>\n",
              "      <td>-1.820821</td>\n",
              "      <td>-1.485238</td>\n",
              "      <td>1.606313</td>\n",
              "      <td>VAZIO</td>\n",
              "    </tr>\n",
              "    <tr>\n",
              "      <th>52</th>\n",
              "      <td>R-97349</td>\n",
              "      <td>907352</td>\n",
              "      <td>2020-11-03</td>\n",
              "      <td>-0.457001</td>\n",
              "      <td>-2.033834</td>\n",
              "      <td>-1.339614</td>\n",
              "      <td>-1.510785</td>\n",
              "      <td>-1.508023</td>\n",
              "      <td>3.571296</td>\n",
              "      <td>0.266159</td>\n",
              "      <td>-1.869161</td>\n",
              "      <td>-0.982523</td>\n",
              "      <td>-0.060797</td>\n",
              "      <td>-0.860474</td>\n",
              "      <td>1.011723</td>\n",
              "      <td>0.108560</td>\n",
              "      <td>-0.493211</td>\n",
              "      <td>-3.157567</td>\n",
              "      <td>0.141181</td>\n",
              "      <td>9.061925e-05</td>\n",
              "      <td>0.000573</td>\n",
              "      <td>-0.000167</td>\n",
              "      <td>0.000424</td>\n",
              "      <td>0.000152</td>\n",
              "      <td>0.000434</td>\n",
              "      <td>9.455147e-04</td>\n",
              "      <td>-0.001746</td>\n",
              "      <td>0.000034</td>\n",
              "      <td>-0.060797</td>\n",
              "      <td>-0.860474</td>\n",
              "      <td>1.011723</td>\n",
              "      <td>-0.493211</td>\n",
              "      <td>-3.157567</td>\n",
              "      <td>0.141181</td>\n",
              "      <td>0.108560</td>\n",
              "      <td>VAZIO</td>\n",
              "    </tr>\n",
              "    <tr>\n",
              "      <th>66</th>\n",
              "      <td>2000296116</td>\n",
              "      <td>907352</td>\n",
              "      <td>2020-10-15</td>\n",
              "      <td>-1.468937</td>\n",
              "      <td>-0.766095</td>\n",
              "      <td>-1.585440</td>\n",
              "      <td>-1.162060</td>\n",
              "      <td>-1.702728</td>\n",
              "      <td>-0.288102</td>\n",
              "      <td>-1.037926</td>\n",
              "      <td>-0.635067</td>\n",
              "      <td>-0.435590</td>\n",
              "      <td>-0.060797</td>\n",
              "      <td>-0.713418</td>\n",
              "      <td>1.901120</td>\n",
              "      <td>1.567189</td>\n",
              "      <td>-1.280694</td>\n",
              "      <td>-0.983736</td>\n",
              "      <td>-0.988643</td>\n",
              "      <td>6.832142e-19</td>\n",
              "      <td>-0.002205</td>\n",
              "      <td>-0.003078</td>\n",
              "      <td>-0.004104</td>\n",
              "      <td>-0.002099</td>\n",
              "      <td>-0.005953</td>\n",
              "      <td>1.024821e-18</td>\n",
              "      <td>0.000000</td>\n",
              "      <td>0.000596</td>\n",
              "      <td>-0.060797</td>\n",
              "      <td>-0.713418</td>\n",
              "      <td>1.901120</td>\n",
              "      <td>-1.280694</td>\n",
              "      <td>-0.983736</td>\n",
              "      <td>-0.988643</td>\n",
              "      <td>1.567189</td>\n",
              "      <td>VAZIO</td>\n",
              "    </tr>\n",
              "    <tr>\n",
              "      <th>50</th>\n",
              "      <td>2000286917</td>\n",
              "      <td>907352</td>\n",
              "      <td>2020-09-18</td>\n",
              "      <td>0.878329</td>\n",
              "      <td>-1.494365</td>\n",
              "      <td>-1.585440</td>\n",
              "      <td>-1.859548</td>\n",
              "      <td>-0.949534</td>\n",
              "      <td>-0.288102</td>\n",
              "      <td>-1.037926</td>\n",
              "      <td>-1.614203</td>\n",
              "      <td>-0.559402</td>\n",
              "      <td>-0.060797</td>\n",
              "      <td>-0.788370</td>\n",
              "      <td>1.803927</td>\n",
              "      <td>1.600133</td>\n",
              "      <td>0.093297</td>\n",
              "      <td>-1.602212</td>\n",
              "      <td>-1.232376</td>\n",
              "      <td>2.394349e-03</td>\n",
              "      <td>0.000858</td>\n",
              "      <td>-0.004209</td>\n",
              "      <td>-0.001421</td>\n",
              "      <td>0.000214</td>\n",
              "      <td>-0.010050</td>\n",
              "      <td>-8.966395e-03</td>\n",
              "      <td>-0.002977</td>\n",
              "      <td>0.000721</td>\n",
              "      <td>-0.060797</td>\n",
              "      <td>-0.788370</td>\n",
              "      <td>1.803927</td>\n",
              "      <td>0.093297</td>\n",
              "      <td>-1.602212</td>\n",
              "      <td>-1.232376</td>\n",
              "      <td>1.600133</td>\n",
              "      <td>VAZIO</td>\n",
              "    </tr>\n",
              "  </tbody>\n",
              "</table>\n",
              "</div>"
            ],
            "text/plain": [
              "   NU_ANLS_OLEO LOCO_analise  DT_COLETA  ...  LIM_SULFATACAO   LIM_TBN  TARGET\n",
              "67        13956       909040 2005-03-23  ...        0.000000  0.000000   VAZIO\n",
              "53   2000292946       907352 2020-12-08  ...       -1.485238  1.606313   VAZIO\n",
              "52      R-97349       907352 2020-11-03  ...        0.141181  0.108560   VAZIO\n",
              "66   2000296116       907352 2020-10-15  ...       -0.988643  1.567189   VAZIO\n",
              "50   2000286917       907352 2020-09-18  ...       -1.232376  1.600133   VAZIO\n",
              "\n",
              "[5 rows x 36 columns]"
            ]
          },
          "metadata": {
            "tags": []
          },
          "execution_count": 61
        }
      ]
    },
    {
      "cell_type": "code",
      "metadata": {
        "id": "U1B2h4uNcXe2"
      },
      "source": [
        "arquivo_cl = arquivo_cl[['NU_ANLS_OLEO','LOCO_analise','DT_COLETA','ALUMINIO','FERRO','CROMO',\n",
        "                         'CHUMBO','COBRE','ESTANHO','PRATA','SILICIO','SODIO','DIESEL','VISCOSIDADE',\n",
        "                         'AGUA','TBN','FULIGEM','OXIDACAO','SULFATACAO','TX_ALUMINIO','TX_FERRO',\n",
        "                         'TX_CROMO','TX_CHUMBO','TX_COBRE','TX_ESTANHO','TX_PRATA','TX_SILICIO','TX_SODIO',\n",
        "                         'LIM_DIESEL','LIM_VISCOSIDADE','LIM_AGUA','LIM_FULIGEM','LIM_OXIDACAO','LIM_SULFATACAO',\n",
        "                         'LIM_TBN','TARGET']]"
      ],
      "execution_count": null,
      "outputs": []
    },
    {
      "cell_type": "code",
      "metadata": {
        "colab": {
          "base_uri": "https://localhost:8080/"
        },
        "id": "h5L4x2fOFzDk",
        "outputId": "57325460-424b-4cf5-de07-86c95918ae38"
      },
      "source": [
        "array = bd.values\n",
        "#array = arquivo_cl.values\n",
        "# Separando o array em componentes de input (X) e output (Y)\n",
        "X_base = array[:,19:35]\n",
        "Y_base = array[:,35]\n",
        "y = LabelEncoder().fit_transform(Y_base)\n",
        "\n",
        "y_label = Y_base\n",
        "\n",
        "classes =[]\n",
        "labeles=np.unique(y_label)\n",
        "for v in labeles:\n",
        "    classes.append('Classe '+ str(v))\n",
        "print(classes)"
      ],
      "execution_count": null,
      "outputs": [
        {
          "output_type": "stream",
          "text": [
            "['Classe BAIXA', 'Classe CRITICA', 'Classe MEDIA', 'Classe NORMAL']\n"
          ],
          "name": "stdout"
        }
      ]
    },
    {
      "cell_type": "code",
      "metadata": {
        "colab": {
          "base_uri": "https://localhost:8080/"
        },
        "id": "J3aXOgZ9xI6J",
        "outputId": "8c08992a-2bc8-4523-eda9-5a72163b4ce4"
      },
      "source": [
        "# Transformando o arquivo em array\n",
        "array = arquivo_cl.values\n",
        "# Separando o array em componentes de input (X) e output (Y)\n",
        "K = array[:,0:3]\n",
        "X = array[:,3:35]\n",
        "Y = array[:,35]\n",
        "\n",
        "colunas1 = ['NU_ANLS_OLEO','LOCO_analise','DT_COLETA']\n",
        "colunas2 = ['ALUMINIO','FERRO','CROMO',\n",
        "                         'CHUMBO','COBRE','ESTANHO','PRATA','SILICIO','SODIO','DIESEL','VISCOSIDADE',\n",
        "                         'AGUA','TBN','FULIGEM','OXIDACAO','SULFATACAO','TX_ALUMINIO','TX_FERRO',\n",
        "                         'TX_CROMO','TX_CHUMBO','TX_COBRE','TX_ESTANHO','TX_PRATA','TX_SILICIO','TX_SODIO',\n",
        "                         'LIM_DIESEL','LIM_VISCOSIDADE','LIM_AGUA','LIM_FULIGEM','LIM_OXIDACAO','LIM_SULFATACAO',\n",
        "                         'LIM_TBN']\n",
        "                   \n",
        "# Gerando a nova escala (normalizando os dados)\n",
        "scaler = MinMaxScaler(feature_range = (0, 1))\n",
        "rescaledX = scaler.fit_transform(X)\n",
        "\n",
        "\n",
        "df = pd.DataFrame(rescaledX,columns=colunas2) \n",
        "df1 = pd.DataFrame(K,columns=colunas1)\n",
        "target = pd.DataFrame(Y)\n",
        "df['TARGET'] = target\n",
        "df = pd.concat([df1,df], axis=1)\n",
        "\n",
        "# Transformando o arquivo em array\n",
        "array = df.values\n",
        "# Separando o array em componentes de input (X) e output (Y)\n",
        "K1 = array[:,0:3]\n",
        "X1 = array[:,3:35]\n",
        "Y1 = array[:,35]\n",
        "\n",
        "# Padronizando Média e Desvio Padrão\n",
        "scaler = StandardScaler().fit(X1)\n",
        "standardX = scaler.transform(X1)\n",
        "\n",
        "df = pd.DataFrame(standardX,columns=colunas2) \n",
        "df1 = pd.DataFrame(K1,columns=colunas1)\n",
        "target = pd.DataFrame(Y1)\n",
        "df['TARGET'] = target\n",
        "df = pd.concat([df1,df], axis=1)\n",
        "\n",
        "pt = PowerTransformer(method = \"yeo-johnson\",standardize=True)\n",
        "data_trans = pt.fit_transform(df[colunas2])\n",
        "data_trans=pd.DataFrame(data_trans) \n",
        "data_trans.columns = colunas2 \n",
        "#data_trans = data_trans.assign(padronizada['Target']) \n",
        "data_trans = data_trans.join(df['TARGET'])  \n",
        "data_trans = pd.concat([df1,data_trans], axis=1) \n"
      ],
      "execution_count": null,
      "outputs": [
        {
          "output_type": "stream",
          "text": [
            "/usr/local/lib/python3.7/dist-packages/sklearn/preprocessing/_data.py:2982: RuntimeWarning: divide by zero encountered in log\n",
            "  loglike = -n_samples / 2 * np.log(x_trans.var())\n"
          ],
          "name": "stderr"
        }
      ]
    },
    {
      "cell_type": "code",
      "metadata": {
        "colab": {
          "base_uri": "https://localhost:8080/",
          "height": 309
        },
        "id": "v4gVQblApQP3",
        "outputId": "01a43bc8-f7a1-430c-fe7a-f50e327ab2e2"
      },
      "source": [
        "bd.head()"
      ],
      "execution_count": null,
      "outputs": [
        {
          "output_type": "execute_result",
          "data": {
            "text/html": [
              "<div>\n",
              "<style scoped>\n",
              "    .dataframe tbody tr th:only-of-type {\n",
              "        vertical-align: middle;\n",
              "    }\n",
              "\n",
              "    .dataframe tbody tr th {\n",
              "        vertical-align: top;\n",
              "    }\n",
              "\n",
              "    .dataframe thead th {\n",
              "        text-align: right;\n",
              "    }\n",
              "</style>\n",
              "<table border=\"1\" class=\"dataframe\">\n",
              "  <thead>\n",
              "    <tr style=\"text-align: right;\">\n",
              "      <th></th>\n",
              "      <th>NU_ANLS_OLEO</th>\n",
              "      <th>LOCO_analise</th>\n",
              "      <th>DT_COLETA</th>\n",
              "      <th>ALUMINIO</th>\n",
              "      <th>FERRO</th>\n",
              "      <th>CROMO</th>\n",
              "      <th>CHUMBO</th>\n",
              "      <th>COBRE</th>\n",
              "      <th>ESTANHO</th>\n",
              "      <th>PRATA</th>\n",
              "      <th>SILICIO</th>\n",
              "      <th>SODIO</th>\n",
              "      <th>DIESEL</th>\n",
              "      <th>VISCOSIDADE</th>\n",
              "      <th>AGUA</th>\n",
              "      <th>TBN</th>\n",
              "      <th>FULIGEM</th>\n",
              "      <th>OXIDACAO</th>\n",
              "      <th>SULFATACAO</th>\n",
              "      <th>TX_ALUMINIO</th>\n",
              "      <th>TX_FERRO</th>\n",
              "      <th>TX_CROMO</th>\n",
              "      <th>TX_CHUMBO</th>\n",
              "      <th>TX_COBRE</th>\n",
              "      <th>TX_ESTANHO</th>\n",
              "      <th>TX_PRATA</th>\n",
              "      <th>TX_SILICIO</th>\n",
              "      <th>TX_SODIO</th>\n",
              "      <th>LIM_DIESEL</th>\n",
              "      <th>LIM_VISCOSIDADE</th>\n",
              "      <th>LIM_AGUA</th>\n",
              "      <th>LIM_FULIGEM</th>\n",
              "      <th>LIM_OXIDACAO</th>\n",
              "      <th>LIM_SULFATACAO</th>\n",
              "      <th>LIM_TBN</th>\n",
              "      <th>TARGET</th>\n",
              "    </tr>\n",
              "  </thead>\n",
              "  <tbody>\n",
              "    <tr>\n",
              "      <th>175959</th>\n",
              "      <td>13956</td>\n",
              "      <td>909040</td>\n",
              "      <td>2005-03-23</td>\n",
              "      <td>0.099137</td>\n",
              "      <td>3.185829</td>\n",
              "      <td>2.399436</td>\n",
              "      <td>2.306443</td>\n",
              "      <td>2.095843</td>\n",
              "      <td>3.581275</td>\n",
              "      <td>-1.037926</td>\n",
              "      <td>-0.963997</td>\n",
              "      <td>-1.205889</td>\n",
              "      <td>-0.060797</td>\n",
              "      <td>0.827206</td>\n",
              "      <td>1.011723</td>\n",
              "      <td>0.108560</td>\n",
              "      <td>0.264321</td>\n",
              "      <td>0.141778</td>\n",
              "      <td>0.141181</td>\n",
              "      <td>-0.005987</td>\n",
              "      <td>0.002207</td>\n",
              "      <td>0.012396</td>\n",
              "      <td>-0.011976</td>\n",
              "      <td>0.015193</td>\n",
              "      <td>-0.011459</td>\n",
              "      <td>-0.006592</td>\n",
              "      <td>-0.001284</td>\n",
              "      <td>0.000665</td>\n",
              "      <td>-0.060797</td>\n",
              "      <td>0.827206</td>\n",
              "      <td>1.011723</td>\n",
              "      <td>0.264321</td>\n",
              "      <td>0.141778</td>\n",
              "      <td>0.141181</td>\n",
              "      <td>0.108560</td>\n",
              "      <td>NORMAL</td>\n",
              "    </tr>\n",
              "    <tr>\n",
              "      <th>175910</th>\n",
              "      <td>2000292946</td>\n",
              "      <td>907352</td>\n",
              "      <td>2020-12-08</td>\n",
              "      <td>-2.526123</td>\n",
              "      <td>-2.057596</td>\n",
              "      <td>-1.585440</td>\n",
              "      <td>-1.859548</td>\n",
              "      <td>-1.702728</td>\n",
              "      <td>-0.288102</td>\n",
              "      <td>-1.037926</td>\n",
              "      <td>-2.198755</td>\n",
              "      <td>-0.316922</td>\n",
              "      <td>-0.060797</td>\n",
              "      <td>-0.924824</td>\n",
              "      <td>1.874883</td>\n",
              "      <td>1.606313</td>\n",
              "      <td>-0.831715</td>\n",
              "      <td>-1.820821</td>\n",
              "      <td>-1.485238</td>\n",
              "      <td>-0.520636</td>\n",
              "      <td>-0.031211</td>\n",
              "      <td>-0.010256</td>\n",
              "      <td>-0.084438</td>\n",
              "      <td>-0.005985</td>\n",
              "      <td>-0.244569</td>\n",
              "      <td>-0.006592</td>\n",
              "      <td>-0.050236</td>\n",
              "      <td>0.004019</td>\n",
              "      <td>-0.060797</td>\n",
              "      <td>-0.924824</td>\n",
              "      <td>1.874883</td>\n",
              "      <td>-0.831715</td>\n",
              "      <td>-1.820821</td>\n",
              "      <td>-1.485238</td>\n",
              "      <td>1.606313</td>\n",
              "      <td>NORMAL</td>\n",
              "    </tr>\n",
              "    <tr>\n",
              "      <th>175911</th>\n",
              "      <td>R-97349</td>\n",
              "      <td>907352</td>\n",
              "      <td>2020-11-03</td>\n",
              "      <td>-0.457001</td>\n",
              "      <td>-2.033834</td>\n",
              "      <td>-1.339614</td>\n",
              "      <td>-1.510785</td>\n",
              "      <td>-1.508023</td>\n",
              "      <td>3.571296</td>\n",
              "      <td>0.266159</td>\n",
              "      <td>-1.869161</td>\n",
              "      <td>-0.982523</td>\n",
              "      <td>-0.060797</td>\n",
              "      <td>-0.860474</td>\n",
              "      <td>1.011723</td>\n",
              "      <td>0.108560</td>\n",
              "      <td>-0.493211</td>\n",
              "      <td>-3.157567</td>\n",
              "      <td>0.141181</td>\n",
              "      <td>0.049304</td>\n",
              "      <td>0.013901</td>\n",
              "      <td>0.016726</td>\n",
              "      <td>0.012731</td>\n",
              "      <td>0.012103</td>\n",
              "      <td>0.050268</td>\n",
              "      <td>-0.020807</td>\n",
              "      <td>-0.003051</td>\n",
              "      <td>0.000674</td>\n",
              "      <td>-0.060797</td>\n",
              "      <td>-0.860474</td>\n",
              "      <td>1.011723</td>\n",
              "      <td>-0.493211</td>\n",
              "      <td>-3.157567</td>\n",
              "      <td>0.141181</td>\n",
              "      <td>0.108560</td>\n",
              "      <td>NORMAL</td>\n",
              "    </tr>\n",
              "    <tr>\n",
              "      <th>175912</th>\n",
              "      <td>2000296116</td>\n",
              "      <td>907352</td>\n",
              "      <td>2020-10-15</td>\n",
              "      <td>-1.468937</td>\n",
              "      <td>-0.766095</td>\n",
              "      <td>-1.585440</td>\n",
              "      <td>-1.162060</td>\n",
              "      <td>-1.702728</td>\n",
              "      <td>-0.288102</td>\n",
              "      <td>-1.037926</td>\n",
              "      <td>-0.635067</td>\n",
              "      <td>-0.435590</td>\n",
              "      <td>-0.060797</td>\n",
              "      <td>-0.713418</td>\n",
              "      <td>1.901120</td>\n",
              "      <td>1.567189</td>\n",
              "      <td>-1.280694</td>\n",
              "      <td>-0.983736</td>\n",
              "      <td>-0.988643</td>\n",
              "      <td>-0.373132</td>\n",
              "      <td>0.028537</td>\n",
              "      <td>-0.085814</td>\n",
              "      <td>-0.085898</td>\n",
              "      <td>-0.038375</td>\n",
              "      <td>-0.817682</td>\n",
              "      <td>-0.274444</td>\n",
              "      <td>0.024486</td>\n",
              "      <td>0.002770</td>\n",
              "      <td>-0.060797</td>\n",
              "      <td>-0.713418</td>\n",
              "      <td>1.901120</td>\n",
              "      <td>-1.280694</td>\n",
              "      <td>-0.983736</td>\n",
              "      <td>-0.988643</td>\n",
              "      <td>1.567189</td>\n",
              "      <td>NORMAL</td>\n",
              "    </tr>\n",
              "    <tr>\n",
              "      <th>175908</th>\n",
              "      <td>2000286917</td>\n",
              "      <td>907352</td>\n",
              "      <td>2020-09-18</td>\n",
              "      <td>0.878329</td>\n",
              "      <td>-1.494365</td>\n",
              "      <td>-1.585440</td>\n",
              "      <td>-1.859548</td>\n",
              "      <td>-0.949534</td>\n",
              "      <td>-0.288102</td>\n",
              "      <td>-1.037926</td>\n",
              "      <td>-1.614203</td>\n",
              "      <td>-0.559402</td>\n",
              "      <td>-0.060797</td>\n",
              "      <td>-0.788370</td>\n",
              "      <td>1.803927</td>\n",
              "      <td>1.600133</td>\n",
              "      <td>0.093297</td>\n",
              "      <td>-1.602212</td>\n",
              "      <td>-1.232376</td>\n",
              "      <td>0.227177</td>\n",
              "      <td>-0.020013</td>\n",
              "      <td>-0.086977</td>\n",
              "      <td>-0.121298</td>\n",
              "      <td>0.013229</td>\n",
              "      <td>-0.754549</td>\n",
              "      <td>-0.345889</td>\n",
              "      <td>-0.072321</td>\n",
              "      <td>0.001976</td>\n",
              "      <td>-0.060797</td>\n",
              "      <td>-0.788370</td>\n",
              "      <td>1.803927</td>\n",
              "      <td>0.093297</td>\n",
              "      <td>-1.602212</td>\n",
              "      <td>-1.232376</td>\n",
              "      <td>1.600133</td>\n",
              "      <td>NORMAL</td>\n",
              "    </tr>\n",
              "  </tbody>\n",
              "</table>\n",
              "</div>"
            ],
            "text/plain": [
              "       NU_ANLS_OLEO  LOCO_analise  DT_COLETA  ...  LIM_SULFATACAO   LIM_TBN  TARGET\n",
              "175959        13956        909040 2005-03-23  ...        0.141181  0.108560  NORMAL\n",
              "175910   2000292946        907352 2020-12-08  ...       -1.485238  1.606313  NORMAL\n",
              "175911      R-97349        907352 2020-11-03  ...        0.141181  0.108560  NORMAL\n",
              "175912   2000296116        907352 2020-10-15  ...       -0.988643  1.567189  NORMAL\n",
              "175908   2000286917        907352 2020-09-18  ...       -1.232376  1.600133  NORMAL\n",
              "\n",
              "[5 rows x 36 columns]"
            ]
          },
          "metadata": {
            "tags": []
          },
          "execution_count": 244
        }
      ]
    },
    {
      "cell_type": "code",
      "metadata": {
        "id": "gpmbftkhpJmq"
      },
      "source": [
        "#array1 = data_trans.values\n",
        "array1 = arquivo_cl.values"
      ],
      "execution_count": null,
      "outputs": []
    },
    {
      "cell_type": "code",
      "metadata": {
        "colab": {
          "base_uri": "https://localhost:8080/"
        },
        "id": "ZjCW04sUjVEU",
        "outputId": "b834b97d-6d89-4695-935d-3c603f8cb13d"
      },
      "source": [
        "teste = array1[:,19:35]\n",
        "teste[1]"
      ],
      "execution_count": null,
      "outputs": [
        {
          "output_type": "execute_result",
          "data": {
            "text/plain": [
              "array([-0.0056094098379869065, -0.0013178664303792101,\n",
              "       -0.001026382515067446, -0.0023046765170750675,\n",
              "       -0.0008293804147994082, -0.007541979849867958,\n",
              "       1.2985064615498906e-18, -0.003597840041657631,\n",
              "       0.0013738365986318308, -0.060796934350587875, -0.924823676714596,\n",
              "       1.8748826295975738, -0.8317153097035223, -1.8208210854900002,\n",
              "       -1.485238022216309, 1.606312529068392], dtype=object)"
            ]
          },
          "metadata": {
            "tags": []
          },
          "execution_count": 62
        }
      ]
    },
    {
      "cell_type": "code",
      "metadata": {
        "id": "8hmSCW4E6fZD"
      },
      "source": [
        "df= data_trans[['TX_ALUMINIO','TX_FERRO','TX_CROMO','TX_CHUMBO','TX_COBRE',\n",
        "                 'TX_ESTANHO','TX_PRATA','TX_SILICIO','TX_SODIO','LIM_DIESEL',\n",
        "                 'LIM_VISCOSIDADE','LIM_AGUA','LIM_FULIGEM','LIM_OXIDACAO',\n",
        "                 'LIM_SULFATACAO','LIM_TBN','TARGET']]"
      ],
      "execution_count": null,
      "outputs": []
    },
    {
      "cell_type": "code",
      "metadata": {
        "id": "2MOg39smyJMH"
      },
      "source": [
        "file_name = '/content/drive/MyDrive/Projetos/Projeto_Analise_de_Oleo/modelos/gb_4_classeskf.pkl'"
      ],
      "execution_count": null,
      "outputs": []
    },
    {
      "cell_type": "code",
      "metadata": {
        "id": "3QlKMi0e8Et9"
      },
      "source": [
        "gb_model = pickle.load(open(file_name, \"rb\"))"
      ],
      "execution_count": null,
      "outputs": []
    },
    {
      "cell_type": "code",
      "metadata": {
        "colab": {
          "base_uri": "https://localhost:8080/",
          "height": 467
        },
        "id": "mD5B3qzFyJPJ",
        "outputId": "deb37591-6cee-47e6-a7b8-78fba2721e4d"
      },
      "source": [
        "y_predict = gb_model.predict(teste[1])\n",
        "y_predict"
      ],
      "execution_count": null,
      "outputs": [
        {
          "output_type": "error",
          "ename": "ValueError",
          "evalue": "ignored",
          "traceback": [
            "\u001b[0;31m---------------------------------------------------------------------------\u001b[0m",
            "\u001b[0;31mValueError\u001b[0m                                Traceback (most recent call last)",
            "\u001b[0;32m<ipython-input-65-6ef3bdb9481c>\u001b[0m in \u001b[0;36m<module>\u001b[0;34m()\u001b[0m\n\u001b[0;32m----> 1\u001b[0;31m \u001b[0my_predict\u001b[0m \u001b[0;34m=\u001b[0m \u001b[0mgb_model\u001b[0m\u001b[0;34m.\u001b[0m\u001b[0mpredict\u001b[0m\u001b[0;34m(\u001b[0m\u001b[0mteste\u001b[0m\u001b[0;34m[\u001b[0m\u001b[0;36m1\u001b[0m\u001b[0;34m]\u001b[0m\u001b[0;34m)\u001b[0m\u001b[0;34m\u001b[0m\u001b[0;34m\u001b[0m\u001b[0m\n\u001b[0m\u001b[1;32m      2\u001b[0m \u001b[0my_predict\u001b[0m\u001b[0;34m\u001b[0m\u001b[0;34m\u001b[0m\u001b[0m\n",
            "\u001b[0;32m/usr/local/lib/python3.7/dist-packages/sklearn/ensemble/_gb.py\u001b[0m in \u001b[0;36mpredict\u001b[0;34m(self, X)\u001b[0m\n\u001b[1;32m   2163\u001b[0m             \u001b[0mThe\u001b[0m \u001b[0mpredicted\u001b[0m \u001b[0mvalues\u001b[0m\u001b[0;34m.\u001b[0m\u001b[0;34m\u001b[0m\u001b[0;34m\u001b[0m\u001b[0m\n\u001b[1;32m   2164\u001b[0m         \"\"\"\n\u001b[0;32m-> 2165\u001b[0;31m         \u001b[0mraw_predictions\u001b[0m \u001b[0;34m=\u001b[0m \u001b[0mself\u001b[0m\u001b[0;34m.\u001b[0m\u001b[0mdecision_function\u001b[0m\u001b[0;34m(\u001b[0m\u001b[0mX\u001b[0m\u001b[0;34m)\u001b[0m\u001b[0;34m\u001b[0m\u001b[0;34m\u001b[0m\u001b[0m\n\u001b[0m\u001b[1;32m   2166\u001b[0m         \u001b[0mencoded_labels\u001b[0m \u001b[0;34m=\u001b[0m\u001b[0;31m \u001b[0m\u001b[0;31m\\\u001b[0m\u001b[0;34m\u001b[0m\u001b[0;34m\u001b[0m\u001b[0m\n\u001b[1;32m   2167\u001b[0m             \u001b[0mself\u001b[0m\u001b[0;34m.\u001b[0m\u001b[0mloss_\u001b[0m\u001b[0;34m.\u001b[0m\u001b[0m_raw_prediction_to_decision\u001b[0m\u001b[0;34m(\u001b[0m\u001b[0mraw_predictions\u001b[0m\u001b[0;34m)\u001b[0m\u001b[0;34m\u001b[0m\u001b[0;34m\u001b[0m\u001b[0m\n",
            "\u001b[0;32m/usr/local/lib/python3.7/dist-packages/sklearn/ensemble/_gb.py\u001b[0m in \u001b[0;36mdecision_function\u001b[0;34m(self, X)\u001b[0m\n\u001b[1;32m   2118\u001b[0m             \u001b[0marray\u001b[0m \u001b[0mof\u001b[0m \u001b[0mshape\u001b[0m \u001b[0;34m[\u001b[0m\u001b[0mn_samples\u001b[0m\u001b[0;34m]\u001b[0m\u001b[0;34m.\u001b[0m\u001b[0;34m\u001b[0m\u001b[0;34m\u001b[0m\u001b[0m\n\u001b[1;32m   2119\u001b[0m         \"\"\"\n\u001b[0;32m-> 2120\u001b[0;31m         \u001b[0mX\u001b[0m \u001b[0;34m=\u001b[0m \u001b[0mcheck_array\u001b[0m\u001b[0;34m(\u001b[0m\u001b[0mX\u001b[0m\u001b[0;34m,\u001b[0m \u001b[0mdtype\u001b[0m\u001b[0;34m=\u001b[0m\u001b[0mDTYPE\u001b[0m\u001b[0;34m,\u001b[0m \u001b[0morder\u001b[0m\u001b[0;34m=\u001b[0m\u001b[0;34m\"C\"\u001b[0m\u001b[0;34m,\u001b[0m \u001b[0maccept_sparse\u001b[0m\u001b[0;34m=\u001b[0m\u001b[0;34m'csr'\u001b[0m\u001b[0;34m)\u001b[0m\u001b[0;34m\u001b[0m\u001b[0;34m\u001b[0m\u001b[0m\n\u001b[0m\u001b[1;32m   2121\u001b[0m         \u001b[0mraw_predictions\u001b[0m \u001b[0;34m=\u001b[0m \u001b[0mself\u001b[0m\u001b[0;34m.\u001b[0m\u001b[0m_raw_predict\u001b[0m\u001b[0;34m(\u001b[0m\u001b[0mX\u001b[0m\u001b[0;34m)\u001b[0m\u001b[0;34m\u001b[0m\u001b[0;34m\u001b[0m\u001b[0m\n\u001b[1;32m   2122\u001b[0m         \u001b[0;32mif\u001b[0m \u001b[0mraw_predictions\u001b[0m\u001b[0;34m.\u001b[0m\u001b[0mshape\u001b[0m\u001b[0;34m[\u001b[0m\u001b[0;36m1\u001b[0m\u001b[0;34m]\u001b[0m \u001b[0;34m==\u001b[0m \u001b[0;36m1\u001b[0m\u001b[0;34m:\u001b[0m\u001b[0;34m\u001b[0m\u001b[0;34m\u001b[0m\u001b[0m\n",
            "\u001b[0;32m/usr/local/lib/python3.7/dist-packages/sklearn/utils/validation.py\u001b[0m in \u001b[0;36mcheck_array\u001b[0;34m(array, accept_sparse, accept_large_sparse, dtype, order, copy, force_all_finite, ensure_2d, allow_nd, ensure_min_samples, ensure_min_features, warn_on_dtype, estimator)\u001b[0m\n\u001b[1;32m    554\u001b[0m                     \u001b[0;34m\"Reshape your data either using array.reshape(-1, 1) if \"\u001b[0m\u001b[0;34m\u001b[0m\u001b[0;34m\u001b[0m\u001b[0m\n\u001b[1;32m    555\u001b[0m                     \u001b[0;34m\"your data has a single feature or array.reshape(1, -1) \"\u001b[0m\u001b[0;34m\u001b[0m\u001b[0;34m\u001b[0m\u001b[0m\n\u001b[0;32m--> 556\u001b[0;31m                     \"if it contains a single sample.\".format(array))\n\u001b[0m\u001b[1;32m    557\u001b[0m \u001b[0;34m\u001b[0m\u001b[0m\n\u001b[1;32m    558\u001b[0m         \u001b[0;31m# in the future np.flexible dtypes will be handled like object dtypes\u001b[0m\u001b[0;34m\u001b[0m\u001b[0;34m\u001b[0m\u001b[0;34m\u001b[0m\u001b[0m\n",
            "\u001b[0;31mValueError\u001b[0m: Expected 2D array, got 1D array instead:\narray=[-5.6094099e-03 -1.3178664e-03 -1.0263826e-03 -2.3046765e-03\n -8.2938041e-04 -7.5419797e-03  1.2985065e-18 -3.5978400e-03\n  1.3738367e-03 -6.0796935e-02 -9.2482370e-01  1.8748826e+00\n -8.3171529e-01 -1.8208210e+00 -1.4852381e+00  1.6063125e+00].\nReshape your data either using array.reshape(-1, 1) if your data has a single feature or array.reshape(1, -1) if it contains a single sample."
          ]
        }
      ]
    },
    {
      "cell_type": "code",
      "metadata": {
        "colab": {
          "base_uri": "https://localhost:8080/"
        },
        "id": "sasWAUP2hNcP",
        "outputId": "c53deb0e-071c-4916-c7cf-d80fc8594bae"
      },
      "source": [
        "y"
      ],
      "execution_count": null,
      "outputs": [
        {
          "output_type": "execute_result",
          "data": {
            "text/plain": [
              "array([3, 3, 3, 3, 3, 3, 3, 3, 3, 3, 3, 3, 3, 3, 3, 3, 3, 3, 3, 3, 1, 1,\n",
              "       1, 1, 1, 1, 2, 1, 1, 1, 1, 1, 1, 1, 1, 1, 1, 0, 0, 2, 0, 0, 0, 0,\n",
              "       0, 0, 2, 0, 2, 0, 0, 0, 0, 2, 2, 2, 2, 2, 2, 2, 2, 2, 2, 2, 2, 2,\n",
              "       2, 2])"
            ]
          },
          "metadata": {
            "tags": []
          },
          "execution_count": 15
        }
      ]
    },
    {
      "cell_type": "code",
      "metadata": {
        "colab": {
          "base_uri": "https://localhost:8080/",
          "height": 35
        },
        "id": "efWGaBwxCIZW",
        "outputId": "6c945f9c-343a-48ee-aa4a-ddfc97e320d7"
      },
      "source": [
        "classes[3]"
      ],
      "execution_count": null,
      "outputs": [
        {
          "output_type": "execute_result",
          "data": {
            "application/vnd.google.colaboratory.intrinsic+json": {
              "type": "string"
            },
            "text/plain": [
              "'Classe NORMAL'"
            ]
          },
          "metadata": {
            "tags": []
          },
          "execution_count": 25
        }
      ]
    },
    {
      "cell_type": "code",
      "metadata": {
        "colab": {
          "base_uri": "https://localhost:8080/"
        },
        "id": "a5okMqePdn58",
        "outputId": "d27a5069-6a56-4ee5-bb80-948da907d2f8"
      },
      "source": [
        "result = np.zeros((len(y),2))\n",
        "\n",
        "cont = 0\n",
        "for w in range(len(y)):\n",
        "  result[w,0]=y[w]\n",
        "  result[w,1]=y_predict[w]\n",
        "  if result[w,0]==result[w,1]:\n",
        "    cont = cont+1\n",
        "  if y_predict == 0:  \n",
        "\n",
        "a=(cont/len(y)* 100)\n",
        "print('Quantidade de amostras: ',len(y))\n",
        "print( ' Acertos: ',a,' %') \n",
        "\n",
        "\n",
        "#result"
      ],
      "execution_count": null,
      "outputs": [
        {
          "output_type": "stream",
          "text": [
            "Quantidade de amostras:  68\n",
            " Acertos:  100.0  %\n"
          ],
          "name": "stdout"
        }
      ]
    },
    {
      "cell_type": "code",
      "metadata": {
        "colab": {
          "base_uri": "https://localhost:8080/"
        },
        "id": "t2VelumQePpc",
        "outputId": "559900c4-0861-4012-fa15-019087e8d27b"
      },
      "source": [
        "# Pesos: NORMAL:3  BAIXA:0  MEDIA:2  CRITICA:1\n",
        "y_label"
      ],
      "execution_count": null,
      "outputs": [
        {
          "output_type": "execute_result",
          "data": {
            "text/plain": [
              "array(['NORMAL', 'NORMAL', 'NORMAL', 'NORMAL', 'NORMAL', 'NORMAL',\n",
              "       'NORMAL', 'NORMAL', 'NORMAL', 'NORMAL', 'NORMAL', 'NORMAL',\n",
              "       'NORMAL', 'NORMAL', 'NORMAL', 'NORMAL', 'NORMAL', 'NORMAL',\n",
              "       'NORMAL', 'NORMAL', 'CRITICA', 'CRITICA', 'CRITICA', 'CRITICA',\n",
              "       'CRITICA', 'CRITICA', 'MEDIA', 'CRITICA', 'CRITICA', 'CRITICA',\n",
              "       'CRITICA', 'CRITICA', 'CRITICA', 'CRITICA', 'CRITICA', 'CRITICA',\n",
              "       'CRITICA', 'BAIXA', 'BAIXA', 'MEDIA', 'BAIXA', 'BAIXA', 'BAIXA',\n",
              "       'BAIXA', 'BAIXA', 'BAIXA', 'MEDIA', 'BAIXA', 'MEDIA', 'BAIXA',\n",
              "       'BAIXA', 'BAIXA', 'BAIXA', 'MEDIA', 'MEDIA', 'MEDIA', 'MEDIA',\n",
              "       'MEDIA', 'MEDIA', 'MEDIA', 'MEDIA', 'MEDIA', 'MEDIA', 'MEDIA',\n",
              "       'MEDIA', 'MEDIA', 'MEDIA', 'MEDIA'], dtype=object)"
            ]
          },
          "metadata": {
            "tags": []
          },
          "execution_count": 26
        }
      ]
    },
    {
      "cell_type": "code",
      "metadata": {
        "colab": {
          "base_uri": "https://localhost:8080/",
          "height": 387
        },
        "id": "uNg9UHQ0epGI",
        "outputId": "5274d9d3-98ec-4536-9bf3-b56c5c0328d9"
      },
      "source": [
        "sns.displot(y_predict)"
      ],
      "execution_count": null,
      "outputs": [
        {
          "output_type": "execute_result",
          "data": {
            "text/plain": [
              "<seaborn.axisgrid.FacetGrid at 0x7fba6b0d2290>"
            ]
          },
          "metadata": {
            "tags": []
          },
          "execution_count": 353
        },
        {
          "output_type": "display_data",
          "data": {
            "image/png": "[encoded data removed]",
            "text/plain": [
              "<Figure size 360x360 with 1 Axes>"
            ]
          },
          "metadata": {
            "tags": [],
            "needs_background": "light"
          }
        }
      ]
    },
    {
      "cell_type": "code",
      "metadata": {
        "colab": {
          "base_uri": "https://localhost:8080/"
        },
        "id": "I-ITUYQIFcYD",
        "outputId": "968d7080-aafa-49c1-a119-03f2d7d7e1ae"
      },
      "source": [
        "y_proba=gb_model.predict_proba(teste)\n",
        "y_proba"
      ],
      "execution_count": null,
      "outputs": [
        {
          "output_type": "execute_result",
          "data": {
            "text/plain": [
              "array([[0.02929255, 0.00423421, 0.00391125, 0.96256199],\n",
              "       [0.03249286, 0.00436281, 0.00403005, 0.95911428],\n",
              "       [0.91339123, 0.03260943, 0.04338082, 0.01061851],\n",
              "       [0.08563111, 0.00639714, 0.00590921, 0.90206254],\n",
              "       [0.10144313, 0.0069087 , 0.00638176, 0.88526641],\n",
              "       [0.02974912, 0.00423221, 0.00390941, 0.96210925],\n",
              "       [0.02929255, 0.00423421, 0.00391125, 0.96256199],\n",
              "       [0.03237351, 0.00422077, 0.00389884, 0.95950688],\n",
              "       [0.02929255, 0.00423421, 0.00391125, 0.96256199],\n",
              "       [0.91854392, 0.02759577, 0.03671107, 0.01714923],\n",
              "       [0.06456348, 0.00545256, 0.00503668, 0.92494727],\n",
              "       [0.03146447, 0.00422473, 0.0039025 , 0.9604083 ],\n",
              "       [0.00626305, 0.04066116, 0.9487397 , 0.00433609],\n",
              "       [0.02974912, 0.00423221, 0.00390941, 0.96210925],\n",
              "       [0.03469732, 0.00421063, 0.00388947, 0.95720258],\n",
              "       [0.04848034, 0.00574198, 0.00530403, 0.94047365],\n",
              "       [0.08256908, 0.01004473, 0.00927859, 0.89810761],\n",
              "       [0.02929255, 0.00423421, 0.00391125, 0.96256199],\n",
              "       [0.02929255, 0.00423421, 0.00391125, 0.96256199],\n",
              "       [0.16062605, 0.01880299, 0.01869955, 0.80187141]])"
            ]
          },
          "metadata": {
            "tags": []
          },
          "execution_count": 103
        }
      ]
    },
    {
      "cell_type": "code",
      "metadata": {
        "id": "c31qrsbYJ3Za"
      },
      "source": [
        "rn_model = load_model('/content/drive/MyDrive/Projetos/Projeto_Analise_de_Oleo/modelos/4classesRN.hdf5')"
      ],
      "execution_count": null,
      "outputs": []
    },
    {
      "cell_type": "code",
      "metadata": {
        "colab": {
          "base_uri": "https://localhost:8080/",
          "height": 346
        },
        "id": "ARS79MvshXeo",
        "outputId": "897e935e-dd91-4c88-aeb1-6c1d60a995d8"
      },
      "source": [
        "y_predict1 = rn_model.predict(teste)\n",
        "y_predict1"
      ],
      "execution_count": null,
      "outputs": [
        {
          "output_type": "error",
          "ename": "ValueError",
          "evalue": "ignored",
          "traceback": [
            "\u001b[0;31m---------------------------------------------------------------------------\u001b[0m",
            "\u001b[0;31mValueError\u001b[0m                                Traceback (most recent call last)",
            "\u001b[0;32m<ipython-input-171-a77d74fcc49a>\u001b[0m in \u001b[0;36m<module>\u001b[0;34m()\u001b[0m\n\u001b[0;32m----> 1\u001b[0;31m \u001b[0my_predict1\u001b[0m \u001b[0;34m=\u001b[0m \u001b[0mrn_model\u001b[0m\u001b[0;34m.\u001b[0m\u001b[0mpredict\u001b[0m\u001b[0;34m(\u001b[0m\u001b[0mteste\u001b[0m\u001b[0;34m)\u001b[0m\u001b[0;34m\u001b[0m\u001b[0;34m\u001b[0m\u001b[0m\n\u001b[0m\u001b[1;32m      2\u001b[0m \u001b[0my_predict1\u001b[0m\u001b[0;34m\u001b[0m\u001b[0;34m\u001b[0m\u001b[0m\n",
            "\u001b[0;32m/usr/local/lib/python3.7/dist-packages/tensorflow/python/keras/engine/training.py\u001b[0m in \u001b[0;36mpredict\u001b[0;34m(self, x, batch_size, verbose, steps, callbacks, max_queue_size, workers, use_multiprocessing)\u001b[0m\n\u001b[1;32m   1606\u001b[0m           \u001b[0muse_multiprocessing\u001b[0m\u001b[0;34m=\u001b[0m\u001b[0muse_multiprocessing\u001b[0m\u001b[0;34m,\u001b[0m\u001b[0;34m\u001b[0m\u001b[0;34m\u001b[0m\u001b[0m\n\u001b[1;32m   1607\u001b[0m           \u001b[0mmodel\u001b[0m\u001b[0;34m=\u001b[0m\u001b[0mself\u001b[0m\u001b[0;34m,\u001b[0m\u001b[0;34m\u001b[0m\u001b[0;34m\u001b[0m\u001b[0m\n\u001b[0;32m-> 1608\u001b[0;31m           steps_per_execution=self._steps_per_execution)\n\u001b[0m\u001b[1;32m   1609\u001b[0m \u001b[0;34m\u001b[0m\u001b[0m\n\u001b[1;32m   1610\u001b[0m       \u001b[0;31m# Container that configures and calls `tf.keras.Callback`s.\u001b[0m\u001b[0;34m\u001b[0m\u001b[0;34m\u001b[0m\u001b[0;34m\u001b[0m\u001b[0m\n",
            "\u001b[0;32m/usr/local/lib/python3.7/dist-packages/tensorflow/python/keras/engine/data_adapter.py\u001b[0m in \u001b[0;36m__init__\u001b[0;34m(self, x, y, sample_weight, batch_size, steps_per_epoch, initial_epoch, epochs, shuffle, class_weight, max_queue_size, workers, use_multiprocessing, model, steps_per_execution)\u001b[0m\n\u001b[1;32m   1110\u001b[0m         \u001b[0muse_multiprocessing\u001b[0m\u001b[0;34m=\u001b[0m\u001b[0muse_multiprocessing\u001b[0m\u001b[0;34m,\u001b[0m\u001b[0;34m\u001b[0m\u001b[0;34m\u001b[0m\u001b[0m\n\u001b[1;32m   1111\u001b[0m         \u001b[0mdistribution_strategy\u001b[0m\u001b[0;34m=\u001b[0m\u001b[0mds_context\u001b[0m\u001b[0;34m.\u001b[0m\u001b[0mget_strategy\u001b[0m\u001b[0;34m(\u001b[0m\u001b[0;34m)\u001b[0m\u001b[0;34m,\u001b[0m\u001b[0;34m\u001b[0m\u001b[0;34m\u001b[0m\u001b[0m\n\u001b[0;32m-> 1112\u001b[0;31m         model=model)\n\u001b[0m\u001b[1;32m   1113\u001b[0m \u001b[0;34m\u001b[0m\u001b[0m\n\u001b[1;32m   1114\u001b[0m     \u001b[0mstrategy\u001b[0m \u001b[0;34m=\u001b[0m \u001b[0mds_context\u001b[0m\u001b[0;34m.\u001b[0m\u001b[0mget_strategy\u001b[0m\u001b[0;34m(\u001b[0m\u001b[0;34m)\u001b[0m\u001b[0;34m\u001b[0m\u001b[0;34m\u001b[0m\u001b[0m\n",
            "\u001b[0;32m/usr/local/lib/python3.7/dist-packages/tensorflow/python/keras/engine/data_adapter.py\u001b[0m in \u001b[0;36m__init__\u001b[0;34m(self, x, y, sample_weights, sample_weight_modes, batch_size, epochs, steps, shuffle, **kwargs)\u001b[0m\n\u001b[1;32m    261\u001b[0m                **kwargs):\n\u001b[1;32m    262\u001b[0m     \u001b[0msuper\u001b[0m\u001b[0;34m(\u001b[0m\u001b[0mTensorLikeDataAdapter\u001b[0m\u001b[0;34m,\u001b[0m \u001b[0mself\u001b[0m\u001b[0;34m)\u001b[0m\u001b[0;34m.\u001b[0m\u001b[0m__init__\u001b[0m\u001b[0;34m(\u001b[0m\u001b[0mx\u001b[0m\u001b[0;34m,\u001b[0m \u001b[0my\u001b[0m\u001b[0;34m,\u001b[0m \u001b[0;34m**\u001b[0m\u001b[0mkwargs\u001b[0m\u001b[0;34m)\u001b[0m\u001b[0;34m\u001b[0m\u001b[0;34m\u001b[0m\u001b[0m\n\u001b[0;32m--> 263\u001b[0;31m     \u001b[0mx\u001b[0m\u001b[0;34m,\u001b[0m \u001b[0my\u001b[0m\u001b[0;34m,\u001b[0m \u001b[0msample_weights\u001b[0m \u001b[0;34m=\u001b[0m \u001b[0m_process_tensorlike\u001b[0m\u001b[0;34m(\u001b[0m\u001b[0;34m(\u001b[0m\u001b[0mx\u001b[0m\u001b[0;34m,\u001b[0m \u001b[0my\u001b[0m\u001b[0;34m,\u001b[0m \u001b[0msample_weights\u001b[0m\u001b[0;34m)\u001b[0m\u001b[0;34m)\u001b[0m\u001b[0;34m\u001b[0m\u001b[0;34m\u001b[0m\u001b[0m\n\u001b[0m\u001b[1;32m    264\u001b[0m     sample_weight_modes = broadcast_sample_weight_modes(\n\u001b[1;32m    265\u001b[0m         sample_weights, sample_weight_modes)\n",
            "\u001b[0;32m/usr/local/lib/python3.7/dist-packages/tensorflow/python/keras/engine/data_adapter.py\u001b[0m in \u001b[0;36m_process_tensorlike\u001b[0;34m(inputs)\u001b[0m\n\u001b[1;32m   1014\u001b[0m     \u001b[0;32mreturn\u001b[0m \u001b[0mx\u001b[0m\u001b[0;34m\u001b[0m\u001b[0;34m\u001b[0m\u001b[0m\n\u001b[1;32m   1015\u001b[0m \u001b[0;34m\u001b[0m\u001b[0m\n\u001b[0;32m-> 1016\u001b[0;31m   \u001b[0minputs\u001b[0m \u001b[0;34m=\u001b[0m \u001b[0mnest\u001b[0m\u001b[0;34m.\u001b[0m\u001b[0mmap_structure\u001b[0m\u001b[0;34m(\u001b[0m\u001b[0m_convert_numpy_and_scipy\u001b[0m\u001b[0;34m,\u001b[0m \u001b[0minputs\u001b[0m\u001b[0;34m)\u001b[0m\u001b[0;34m\u001b[0m\u001b[0;34m\u001b[0m\u001b[0m\n\u001b[0m\u001b[1;32m   1017\u001b[0m   \u001b[0;32mreturn\u001b[0m \u001b[0mnest\u001b[0m\u001b[0;34m.\u001b[0m\u001b[0mlist_to_tuple\u001b[0m\u001b[0;34m(\u001b[0m\u001b[0minputs\u001b[0m\u001b[0;34m)\u001b[0m\u001b[0;34m\u001b[0m\u001b[0;34m\u001b[0m\u001b[0m\n\u001b[1;32m   1018\u001b[0m \u001b[0;34m\u001b[0m\u001b[0m\n",
            "\u001b[0;32m/usr/local/lib/python3.7/dist-packages/tensorflow/python/util/nest.py\u001b[0m in \u001b[0;36mmap_structure\u001b[0;34m(func, *structure, **kwargs)\u001b[0m\n\u001b[1;32m    657\u001b[0m \u001b[0;34m\u001b[0m\u001b[0m\n\u001b[1;32m    658\u001b[0m   return pack_sequence_as(\n\u001b[0;32m--> 659\u001b[0;31m       \u001b[0mstructure\u001b[0m\u001b[0;34m[\u001b[0m\u001b[0;36m0\u001b[0m\u001b[0;34m]\u001b[0m\u001b[0;34m,\u001b[0m \u001b[0;34m[\u001b[0m\u001b[0mfunc\u001b[0m\u001b[0;34m(\u001b[0m\u001b[0;34m*\u001b[0m\u001b[0mx\u001b[0m\u001b[0;34m)\u001b[0m \u001b[0;32mfor\u001b[0m \u001b[0mx\u001b[0m \u001b[0;32min\u001b[0m \u001b[0mentries\u001b[0m\u001b[0;34m]\u001b[0m\u001b[0;34m,\u001b[0m\u001b[0;34m\u001b[0m\u001b[0;34m\u001b[0m\u001b[0m\n\u001b[0m\u001b[1;32m    660\u001b[0m       expand_composites=expand_composites)\n\u001b[1;32m    661\u001b[0m \u001b[0;34m\u001b[0m\u001b[0m\n",
            "\u001b[0;32m/usr/local/lib/python3.7/dist-packages/tensorflow/python/util/nest.py\u001b[0m in \u001b[0;36m<listcomp>\u001b[0;34m(.0)\u001b[0m\n\u001b[1;32m    657\u001b[0m \u001b[0;34m\u001b[0m\u001b[0m\n\u001b[1;32m    658\u001b[0m   return pack_sequence_as(\n\u001b[0;32m--> 659\u001b[0;31m       \u001b[0mstructure\u001b[0m\u001b[0;34m[\u001b[0m\u001b[0;36m0\u001b[0m\u001b[0;34m]\u001b[0m\u001b[0;34m,\u001b[0m \u001b[0;34m[\u001b[0m\u001b[0mfunc\u001b[0m\u001b[0;34m(\u001b[0m\u001b[0;34m*\u001b[0m\u001b[0mx\u001b[0m\u001b[0;34m)\u001b[0m \u001b[0;32mfor\u001b[0m \u001b[0mx\u001b[0m \u001b[0;32min\u001b[0m \u001b[0mentries\u001b[0m\u001b[0;34m]\u001b[0m\u001b[0;34m,\u001b[0m\u001b[0;34m\u001b[0m\u001b[0;34m\u001b[0m\u001b[0m\n\u001b[0m\u001b[1;32m    660\u001b[0m       expand_composites=expand_composites)\n\u001b[1;32m    661\u001b[0m \u001b[0;34m\u001b[0m\u001b[0m\n",
            "\u001b[0;32m/usr/local/lib/python3.7/dist-packages/tensorflow/python/keras/engine/data_adapter.py\u001b[0m in \u001b[0;36m_convert_numpy_and_scipy\u001b[0;34m(x)\u001b[0m\n\u001b[1;32m   1009\u001b[0m       \u001b[0;32mif\u001b[0m \u001b[0missubclass\u001b[0m\u001b[0;34m(\u001b[0m\u001b[0mx\u001b[0m\u001b[0;34m.\u001b[0m\u001b[0mdtype\u001b[0m\u001b[0;34m.\u001b[0m\u001b[0mtype\u001b[0m\u001b[0;34m,\u001b[0m \u001b[0mnp\u001b[0m\u001b[0;34m.\u001b[0m\u001b[0mfloating\u001b[0m\u001b[0;34m)\u001b[0m\u001b[0;34m:\u001b[0m\u001b[0;34m\u001b[0m\u001b[0;34m\u001b[0m\u001b[0m\n\u001b[1;32m   1010\u001b[0m         \u001b[0mdtype\u001b[0m \u001b[0;34m=\u001b[0m \u001b[0mbackend\u001b[0m\u001b[0;34m.\u001b[0m\u001b[0mfloatx\u001b[0m\u001b[0;34m(\u001b[0m\u001b[0;34m)\u001b[0m\u001b[0;34m\u001b[0m\u001b[0;34m\u001b[0m\u001b[0m\n\u001b[0;32m-> 1011\u001b[0;31m       \u001b[0;32mreturn\u001b[0m \u001b[0mops\u001b[0m\u001b[0;34m.\u001b[0m\u001b[0mconvert_to_tensor_v2_with_dispatch\u001b[0m\u001b[0;34m(\u001b[0m\u001b[0mx\u001b[0m\u001b[0;34m,\u001b[0m \u001b[0mdtype\u001b[0m\u001b[0;34m=\u001b[0m\u001b[0mdtype\u001b[0m\u001b[0;34m)\u001b[0m\u001b[0;34m\u001b[0m\u001b[0;34m\u001b[0m\u001b[0m\n\u001b[0m\u001b[1;32m   1012\u001b[0m     \u001b[0;32melif\u001b[0m \u001b[0mscipy_sparse\u001b[0m \u001b[0;32mand\u001b[0m \u001b[0mscipy_sparse\u001b[0m\u001b[0;34m.\u001b[0m\u001b[0missparse\u001b[0m\u001b[0;34m(\u001b[0m\u001b[0mx\u001b[0m\u001b[0;34m)\u001b[0m\u001b[0;34m:\u001b[0m\u001b[0;34m\u001b[0m\u001b[0;34m\u001b[0m\u001b[0m\n\u001b[1;32m   1013\u001b[0m       \u001b[0;32mreturn\u001b[0m \u001b[0m_scipy_sparse_to_sparse_tensor\u001b[0m\u001b[0;34m(\u001b[0m\u001b[0mx\u001b[0m\u001b[0;34m)\u001b[0m\u001b[0;34m\u001b[0m\u001b[0;34m\u001b[0m\u001b[0m\n",
            "\u001b[0;32m/usr/local/lib/python3.7/dist-packages/tensorflow/python/util/dispatch.py\u001b[0m in \u001b[0;36mwrapper\u001b[0;34m(*args, **kwargs)\u001b[0m\n\u001b[1;32m    199\u001b[0m     \u001b[0;34m\"\"\"Call target, and fall back on dispatchers if there is a TypeError.\"\"\"\u001b[0m\u001b[0;34m\u001b[0m\u001b[0;34m\u001b[0m\u001b[0m\n\u001b[1;32m    200\u001b[0m     \u001b[0;32mtry\u001b[0m\u001b[0;34m:\u001b[0m\u001b[0;34m\u001b[0m\u001b[0;34m\u001b[0m\u001b[0m\n\u001b[0;32m--> 201\u001b[0;31m       \u001b[0;32mreturn\u001b[0m \u001b[0mtarget\u001b[0m\u001b[0;34m(\u001b[0m\u001b[0;34m*\u001b[0m\u001b[0margs\u001b[0m\u001b[0;34m,\u001b[0m \u001b[0;34m**\u001b[0m\u001b[0mkwargs\u001b[0m\u001b[0;34m)\u001b[0m\u001b[0;34m\u001b[0m\u001b[0;34m\u001b[0m\u001b[0m\n\u001b[0m\u001b[1;32m    202\u001b[0m     \u001b[0;32mexcept\u001b[0m \u001b[0;34m(\u001b[0m\u001b[0mTypeError\u001b[0m\u001b[0;34m,\u001b[0m \u001b[0mValueError\u001b[0m\u001b[0;34m)\u001b[0m\u001b[0;34m:\u001b[0m\u001b[0;34m\u001b[0m\u001b[0;34m\u001b[0m\u001b[0m\n\u001b[1;32m    203\u001b[0m       \u001b[0;31m# Note: convert_to_eager_tensor currently raises a ValueError, not a\u001b[0m\u001b[0;34m\u001b[0m\u001b[0;34m\u001b[0m\u001b[0;34m\u001b[0m\u001b[0m\n",
            "\u001b[0;32m/usr/local/lib/python3.7/dist-packages/tensorflow/python/framework/ops.py\u001b[0m in \u001b[0;36mconvert_to_tensor_v2_with_dispatch\u001b[0;34m(value, dtype, dtype_hint, name)\u001b[0m\n\u001b[1;32m   1403\u001b[0m   \"\"\"\n\u001b[1;32m   1404\u001b[0m   return convert_to_tensor_v2(\n\u001b[0;32m-> 1405\u001b[0;31m       value, dtype=dtype, dtype_hint=dtype_hint, name=name)\n\u001b[0m\u001b[1;32m   1406\u001b[0m \u001b[0;34m\u001b[0m\u001b[0m\n\u001b[1;32m   1407\u001b[0m \u001b[0;34m\u001b[0m\u001b[0m\n",
            "\u001b[0;32m/usr/local/lib/python3.7/dist-packages/tensorflow/python/framework/ops.py\u001b[0m in \u001b[0;36mconvert_to_tensor_v2\u001b[0;34m(value, dtype, dtype_hint, name)\u001b[0m\n\u001b[1;32m   1413\u001b[0m       \u001b[0mname\u001b[0m\u001b[0;34m=\u001b[0m\u001b[0mname\u001b[0m\u001b[0;34m,\u001b[0m\u001b[0;34m\u001b[0m\u001b[0;34m\u001b[0m\u001b[0m\n\u001b[1;32m   1414\u001b[0m       \u001b[0mpreferred_dtype\u001b[0m\u001b[0;34m=\u001b[0m\u001b[0mdtype_hint\u001b[0m\u001b[0;34m,\u001b[0m\u001b[0;34m\u001b[0m\u001b[0;34m\u001b[0m\u001b[0m\n\u001b[0;32m-> 1415\u001b[0;31m       as_ref=False)\n\u001b[0m\u001b[1;32m   1416\u001b[0m \u001b[0;34m\u001b[0m\u001b[0m\n\u001b[1;32m   1417\u001b[0m \u001b[0;34m\u001b[0m\u001b[0m\n",
            "\u001b[0;32m/usr/local/lib/python3.7/dist-packages/tensorflow/python/profiler/trace.py\u001b[0m in \u001b[0;36mwrapped\u001b[0;34m(*args, **kwargs)\u001b[0m\n\u001b[1;32m    161\u001b[0m         \u001b[0;32mwith\u001b[0m \u001b[0mTrace\u001b[0m\u001b[0;34m(\u001b[0m\u001b[0mtrace_name\u001b[0m\u001b[0;34m,\u001b[0m \u001b[0;34m**\u001b[0m\u001b[0mtrace_kwargs\u001b[0m\u001b[0;34m)\u001b[0m\u001b[0;34m:\u001b[0m\u001b[0;34m\u001b[0m\u001b[0;34m\u001b[0m\u001b[0m\n\u001b[1;32m    162\u001b[0m           \u001b[0;32mreturn\u001b[0m \u001b[0mfunc\u001b[0m\u001b[0;34m(\u001b[0m\u001b[0;34m*\u001b[0m\u001b[0margs\u001b[0m\u001b[0;34m,\u001b[0m \u001b[0;34m**\u001b[0m\u001b[0mkwargs\u001b[0m\u001b[0;34m)\u001b[0m\u001b[0;34m\u001b[0m\u001b[0;34m\u001b[0m\u001b[0m\n\u001b[0;32m--> 163\u001b[0;31m       \u001b[0;32mreturn\u001b[0m \u001b[0mfunc\u001b[0m\u001b[0;34m(\u001b[0m\u001b[0;34m*\u001b[0m\u001b[0margs\u001b[0m\u001b[0;34m,\u001b[0m \u001b[0;34m**\u001b[0m\u001b[0mkwargs\u001b[0m\u001b[0;34m)\u001b[0m\u001b[0;34m\u001b[0m\u001b[0;34m\u001b[0m\u001b[0m\n\u001b[0m\u001b[1;32m    164\u001b[0m \u001b[0;34m\u001b[0m\u001b[0m\n\u001b[1;32m    165\u001b[0m     \u001b[0;32mreturn\u001b[0m \u001b[0mwrapped\u001b[0m\u001b[0;34m\u001b[0m\u001b[0;34m\u001b[0m\u001b[0m\n",
            "\u001b[0;32m/usr/local/lib/python3.7/dist-packages/tensorflow/python/framework/ops.py\u001b[0m in \u001b[0;36mconvert_to_tensor\u001b[0;34m(value, dtype, name, as_ref, preferred_dtype, dtype_hint, ctx, accepted_result_types)\u001b[0m\n\u001b[1;32m   1538\u001b[0m \u001b[0;34m\u001b[0m\u001b[0m\n\u001b[1;32m   1539\u001b[0m     \u001b[0;32mif\u001b[0m \u001b[0mret\u001b[0m \u001b[0;32mis\u001b[0m \u001b[0;32mNone\u001b[0m\u001b[0;34m:\u001b[0m\u001b[0;34m\u001b[0m\u001b[0;34m\u001b[0m\u001b[0m\n\u001b[0;32m-> 1540\u001b[0;31m       \u001b[0mret\u001b[0m \u001b[0;34m=\u001b[0m \u001b[0mconversion_func\u001b[0m\u001b[0;34m(\u001b[0m\u001b[0mvalue\u001b[0m\u001b[0;34m,\u001b[0m \u001b[0mdtype\u001b[0m\u001b[0;34m=\u001b[0m\u001b[0mdtype\u001b[0m\u001b[0;34m,\u001b[0m \u001b[0mname\u001b[0m\u001b[0;34m=\u001b[0m\u001b[0mname\u001b[0m\u001b[0;34m,\u001b[0m \u001b[0mas_ref\u001b[0m\u001b[0;34m=\u001b[0m\u001b[0mas_ref\u001b[0m\u001b[0;34m)\u001b[0m\u001b[0;34m\u001b[0m\u001b[0;34m\u001b[0m\u001b[0m\n\u001b[0m\u001b[1;32m   1541\u001b[0m \u001b[0;34m\u001b[0m\u001b[0m\n\u001b[1;32m   1542\u001b[0m     \u001b[0;32mif\u001b[0m \u001b[0mret\u001b[0m \u001b[0;32mis\u001b[0m \u001b[0mNotImplemented\u001b[0m\u001b[0;34m:\u001b[0m\u001b[0;34m\u001b[0m\u001b[0;34m\u001b[0m\u001b[0m\n",
            "\u001b[0;32m/usr/local/lib/python3.7/dist-packages/tensorflow/python/framework/tensor_conversion_registry.py\u001b[0m in \u001b[0;36m_default_conversion_function\u001b[0;34m(***failed resolving arguments***)\u001b[0m\n\u001b[1;32m     50\u001b[0m \u001b[0;32mdef\u001b[0m \u001b[0m_default_conversion_function\u001b[0m\u001b[0;34m(\u001b[0m\u001b[0mvalue\u001b[0m\u001b[0;34m,\u001b[0m \u001b[0mdtype\u001b[0m\u001b[0;34m,\u001b[0m \u001b[0mname\u001b[0m\u001b[0;34m,\u001b[0m \u001b[0mas_ref\u001b[0m\u001b[0;34m)\u001b[0m\u001b[0;34m:\u001b[0m\u001b[0;34m\u001b[0m\u001b[0;34m\u001b[0m\u001b[0m\n\u001b[1;32m     51\u001b[0m   \u001b[0;32mdel\u001b[0m \u001b[0mas_ref\u001b[0m  \u001b[0;31m# Unused.\u001b[0m\u001b[0;34m\u001b[0m\u001b[0;34m\u001b[0m\u001b[0m\n\u001b[0;32m---> 52\u001b[0;31m   \u001b[0;32mreturn\u001b[0m \u001b[0mconstant_op\u001b[0m\u001b[0;34m.\u001b[0m\u001b[0mconstant\u001b[0m\u001b[0;34m(\u001b[0m\u001b[0mvalue\u001b[0m\u001b[0;34m,\u001b[0m \u001b[0mdtype\u001b[0m\u001b[0;34m,\u001b[0m \u001b[0mname\u001b[0m\u001b[0;34m=\u001b[0m\u001b[0mname\u001b[0m\u001b[0;34m)\u001b[0m\u001b[0;34m\u001b[0m\u001b[0;34m\u001b[0m\u001b[0m\n\u001b[0m\u001b[1;32m     53\u001b[0m \u001b[0;34m\u001b[0m\u001b[0m\n\u001b[1;32m     54\u001b[0m \u001b[0;34m\u001b[0m\u001b[0m\n",
            "\u001b[0;32m/usr/local/lib/python3.7/dist-packages/tensorflow/python/framework/constant_op.py\u001b[0m in \u001b[0;36mconstant\u001b[0;34m(value, dtype, shape, name)\u001b[0m\n\u001b[1;32m    263\u001b[0m   \"\"\"\n\u001b[1;32m    264\u001b[0m   return _constant_impl(value, dtype, shape, name, verify_shape=False,\n\u001b[0;32m--> 265\u001b[0;31m                         allow_broadcast=True)\n\u001b[0m\u001b[1;32m    266\u001b[0m \u001b[0;34m\u001b[0m\u001b[0m\n\u001b[1;32m    267\u001b[0m \u001b[0;34m\u001b[0m\u001b[0m\n",
            "\u001b[0;32m/usr/local/lib/python3.7/dist-packages/tensorflow/python/framework/constant_op.py\u001b[0m in \u001b[0;36m_constant_impl\u001b[0;34m(value, dtype, shape, name, verify_shape, allow_broadcast)\u001b[0m\n\u001b[1;32m    274\u001b[0m       \u001b[0;32mwith\u001b[0m \u001b[0mtrace\u001b[0m\u001b[0;34m.\u001b[0m\u001b[0mTrace\u001b[0m\u001b[0;34m(\u001b[0m\u001b[0;34m\"tf.constant\"\u001b[0m\u001b[0;34m)\u001b[0m\u001b[0;34m:\u001b[0m\u001b[0;34m\u001b[0m\u001b[0;34m\u001b[0m\u001b[0m\n\u001b[1;32m    275\u001b[0m         \u001b[0;32mreturn\u001b[0m \u001b[0m_constant_eager_impl\u001b[0m\u001b[0;34m(\u001b[0m\u001b[0mctx\u001b[0m\u001b[0;34m,\u001b[0m \u001b[0mvalue\u001b[0m\u001b[0;34m,\u001b[0m \u001b[0mdtype\u001b[0m\u001b[0;34m,\u001b[0m \u001b[0mshape\u001b[0m\u001b[0;34m,\u001b[0m \u001b[0mverify_shape\u001b[0m\u001b[0;34m)\u001b[0m\u001b[0;34m\u001b[0m\u001b[0;34m\u001b[0m\u001b[0m\n\u001b[0;32m--> 276\u001b[0;31m     \u001b[0;32mreturn\u001b[0m \u001b[0m_constant_eager_impl\u001b[0m\u001b[0;34m(\u001b[0m\u001b[0mctx\u001b[0m\u001b[0;34m,\u001b[0m \u001b[0mvalue\u001b[0m\u001b[0;34m,\u001b[0m \u001b[0mdtype\u001b[0m\u001b[0;34m,\u001b[0m \u001b[0mshape\u001b[0m\u001b[0;34m,\u001b[0m \u001b[0mverify_shape\u001b[0m\u001b[0;34m)\u001b[0m\u001b[0;34m\u001b[0m\u001b[0;34m\u001b[0m\u001b[0m\n\u001b[0m\u001b[1;32m    277\u001b[0m \u001b[0;34m\u001b[0m\u001b[0m\n\u001b[1;32m    278\u001b[0m   \u001b[0mg\u001b[0m \u001b[0;34m=\u001b[0m \u001b[0mops\u001b[0m\u001b[0;34m.\u001b[0m\u001b[0mget_default_graph\u001b[0m\u001b[0;34m(\u001b[0m\u001b[0;34m)\u001b[0m\u001b[0;34m\u001b[0m\u001b[0;34m\u001b[0m\u001b[0m\n",
            "\u001b[0;32m/usr/local/lib/python3.7/dist-packages/tensorflow/python/framework/constant_op.py\u001b[0m in \u001b[0;36m_constant_eager_impl\u001b[0;34m(ctx, value, dtype, shape, verify_shape)\u001b[0m\n\u001b[1;32m    299\u001b[0m \u001b[0;32mdef\u001b[0m \u001b[0m_constant_eager_impl\u001b[0m\u001b[0;34m(\u001b[0m\u001b[0mctx\u001b[0m\u001b[0;34m,\u001b[0m \u001b[0mvalue\u001b[0m\u001b[0;34m,\u001b[0m \u001b[0mdtype\u001b[0m\u001b[0;34m,\u001b[0m \u001b[0mshape\u001b[0m\u001b[0;34m,\u001b[0m \u001b[0mverify_shape\u001b[0m\u001b[0;34m)\u001b[0m\u001b[0;34m:\u001b[0m\u001b[0;34m\u001b[0m\u001b[0;34m\u001b[0m\u001b[0m\n\u001b[1;32m    300\u001b[0m   \u001b[0;34m\"\"\"Implementation of eager constant.\"\"\"\u001b[0m\u001b[0;34m\u001b[0m\u001b[0;34m\u001b[0m\u001b[0m\n\u001b[0;32m--> 301\u001b[0;31m   \u001b[0mt\u001b[0m \u001b[0;34m=\u001b[0m \u001b[0mconvert_to_eager_tensor\u001b[0m\u001b[0;34m(\u001b[0m\u001b[0mvalue\u001b[0m\u001b[0;34m,\u001b[0m \u001b[0mctx\u001b[0m\u001b[0;34m,\u001b[0m \u001b[0mdtype\u001b[0m\u001b[0;34m)\u001b[0m\u001b[0;34m\u001b[0m\u001b[0;34m\u001b[0m\u001b[0m\n\u001b[0m\u001b[1;32m    302\u001b[0m   \u001b[0;32mif\u001b[0m \u001b[0mshape\u001b[0m \u001b[0;32mis\u001b[0m \u001b[0;32mNone\u001b[0m\u001b[0;34m:\u001b[0m\u001b[0;34m\u001b[0m\u001b[0;34m\u001b[0m\u001b[0m\n\u001b[1;32m    303\u001b[0m     \u001b[0;32mreturn\u001b[0m \u001b[0mt\u001b[0m\u001b[0;34m\u001b[0m\u001b[0;34m\u001b[0m\u001b[0m\n",
            "\u001b[0;32m/usr/local/lib/python3.7/dist-packages/tensorflow/python/framework/constant_op.py\u001b[0m in \u001b[0;36mconvert_to_eager_tensor\u001b[0;34m(value, ctx, dtype)\u001b[0m\n\u001b[1;32m     96\u001b[0m       \u001b[0mdtype\u001b[0m \u001b[0;34m=\u001b[0m \u001b[0mdtypes\u001b[0m\u001b[0;34m.\u001b[0m\u001b[0mas_dtype\u001b[0m\u001b[0;34m(\u001b[0m\u001b[0mdtype\u001b[0m\u001b[0;34m)\u001b[0m\u001b[0;34m.\u001b[0m\u001b[0mas_datatype_enum\u001b[0m\u001b[0;34m\u001b[0m\u001b[0;34m\u001b[0m\u001b[0m\n\u001b[1;32m     97\u001b[0m   \u001b[0mctx\u001b[0m\u001b[0;34m.\u001b[0m\u001b[0mensure_initialized\u001b[0m\u001b[0;34m(\u001b[0m\u001b[0;34m)\u001b[0m\u001b[0;34m\u001b[0m\u001b[0;34m\u001b[0m\u001b[0m\n\u001b[0;32m---> 98\u001b[0;31m   \u001b[0;32mreturn\u001b[0m \u001b[0mops\u001b[0m\u001b[0;34m.\u001b[0m\u001b[0mEagerTensor\u001b[0m\u001b[0;34m(\u001b[0m\u001b[0mvalue\u001b[0m\u001b[0;34m,\u001b[0m \u001b[0mctx\u001b[0m\u001b[0;34m.\u001b[0m\u001b[0mdevice_name\u001b[0m\u001b[0;34m,\u001b[0m \u001b[0mdtype\u001b[0m\u001b[0;34m)\u001b[0m\u001b[0;34m\u001b[0m\u001b[0;34m\u001b[0m\u001b[0m\n\u001b[0m\u001b[1;32m     99\u001b[0m \u001b[0;34m\u001b[0m\u001b[0m\n\u001b[1;32m    100\u001b[0m \u001b[0;34m\u001b[0m\u001b[0m\n",
            "\u001b[0;31mValueError\u001b[0m: Failed to convert a NumPy array to a Tensor (Unsupported object type float)."
          ]
        }
      ]
    },
    {
      "cell_type": "code",
      "metadata": {
        "id": "jA1T3p8c5ERH"
      },
      "source": [
        "#arquivo['TX_ALUMINIO']=0\n",
        "#arquivo['TX_FERRO']=0\n",
        "#arquivo['TX_CROMO']=0\n",
        "#arquivo['TX_CHUMBO']=0\n",
        "#arquivo['TX_COBRE']=0\n",
        "#arquivo['TX_ESTANHO']=0\n",
        "#arquivo['TX_PRATA']=0\n",
        "#arquivo['TX_SILICIO']=0\n",
        "#arquivo['TX_SODIO']=0\n",
        "#arquivo['LIM_DIESEL']=0\n",
        "#arquivo['LIM_VISCOSIDADE']=0\n",
        "#arquivo['LIM_AGUA']=0\n",
        "#arquivo['LIM_TBN']=0\n",
        "#arquivo['LIM_FULIGEM']=0\n",
        "#arquivo['LIM_OXIDACAO']=0\n",
        "#arquivo['LIM_SULFATACAO']=0"
      ],
      "execution_count": null,
      "outputs": []
    },
    {
      "cell_type": "code",
      "metadata": {
        "id": "9MsHHV3UVRiu"
      },
      "source": [
        "#arquivo = arquivo.iloc[101000:101020]"
      ],
      "execution_count": null,
      "outputs": []
    },
    {
      "cell_type": "code",
      "metadata": {
        "id": "b9NZ0BdwbZEK"
      },
      "source": [
        "#arquivo['TX_ALUMINIO'] = arquivo['TX_ALUMINIO'].astype(float)\n",
        "#arquivo['TX_FERRO'] = arquivo['TX_FERRO'].astype(float)\n",
        "#arquivo['TX_CROMO'] = arquivo['TX_CROMO'].astype(float)\n",
        "#arquivo['TX_CHUMBO'] = arquivo['TX_CHUMBO'].astype(float)\n",
        "#arquivo['TX_COBRE'] = arquivo['TX_COBRE'].astype(float)\n",
        "#arquivo['TX_ESTANHO'] = arquivo['TX_ESTANHO'].astype(float)\n",
        "#arquivo['TX_PRATA'] = arquivo['TX_PRATA'].astype(float)\n",
        "#arquivo['TX_SILICIO'] = arquivo['TX_SILICIO'].astype(float)\n",
        "#arquivo['TX_SODIO'] = arquivo['TX_SODIO'].astype(float)\n",
        "#arquivo['LIM_DIESEL'] = arquivo['LIM_DIESEL'].astype(float)\n",
        "#arquivo['LIM_VISCOSIDADE'] = arquivo['LIM_VISCOSIDADE'].astype(float)\n",
        "#arquivo['LIM_AGUA'] = arquivo['LIM_AGUA'].astype(float)\n",
        "#arquivo['LIM_TBN'] = arquivo['LIM_TBN'].astype(float)\n",
        "#arquivo['LIM_FULIGEM'] = arquivo['LIM_FULIGEM'].astype(float)\n",
        "#arquivo['LIM_OXIDACAO'] = arquivo['LIM_OXIDACAO'].astype(float)\n",
        "#arquivo['LIM_SULFATACAO'] = arquivo['LIM_SULFATACAO'].astype(float)"
      ],
      "execution_count": null,
      "outputs": []
    },
    {
      "cell_type": "code",
      "metadata": {
        "colab": {
          "base_uri": "https://localhost:8080/"
        },
        "id": "h7GFsQ3yv5_4",
        "outputId": "ecf27e80-ae64-4fc0-b737-8f6c861ffa28"
      },
      "source": [
        "a=arquivo['LOCO_analise'].unique()\n",
        "len(a)"
      ],
      "execution_count": null,
      "outputs": [
        {
          "output_type": "execute_result",
          "data": {
            "text/plain": [
              "80"
            ]
          },
          "metadata": {
            "tags": []
          },
          "execution_count": 328
        }
      ]
    }
  ]
}